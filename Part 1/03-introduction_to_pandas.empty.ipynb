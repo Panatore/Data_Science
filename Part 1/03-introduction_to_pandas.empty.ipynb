{
 "cells": [
  {
   "cell_type": "markdown",
   "metadata": {
    "slideshow": {
     "slide_type": "slide"
    }
   },
   "source": [
    "# Introduction to Data Analysis with Python\n",
    "\n",
    "\n",
    "<img src=\"https://www.python.org/static/img/python-logo.png\" alt=\"yogen\" style=\"width: 200px; float: right;\"/>\n",
    "<br>\n",
    "<br>\n",
    "<br>\n",
    "<img src=\"../assets/yogen-logo.png\" alt=\"yogen\" style=\"width: 200px; float: right;\"/>"
   ]
  },
  {
   "cell_type": "markdown",
   "metadata": {
    "collapsed": true,
    "slideshow": {
     "slide_type": "slide"
    }
   },
   "source": [
    "# Objectives\n",
    "\n",
    "* Handle tabular data with `pandas`"
   ]
  },
  {
   "cell_type": "markdown",
   "metadata": {
    "slideshow": {
     "slide_type": "slide"
    }
   },
   "source": [
    "  "
   ]
  },
  {
   "cell_type": "markdown",
   "metadata": {
    "slideshow": {
     "slide_type": "slide"
    }
   },
   "source": [
    "# The Python scientific stack: SciPy\n",
    "\n",
    "Python Main Data Libraries"
   ]
  },
  {
   "cell_type": "markdown",
   "metadata": {
    "slideshow": {
     "slide_type": "fragment"
    }
   },
   "source": [
    "NumPy: Base N-dimensional array package\n",
    "\n",
    "SciPy library: Fundamental library for scientific computing\n",
    "\n",
    "Matplotlib: Comprehensive 2D Plotting\n",
    "\n",
    "IPython: Enhanced Interactive Console\n",
    "\n",
    "Sympy: Symbolic mathematics\n",
    "\n",
    "pandas: Data structures & analysis"
   ]
  },
  {
   "cell_type": "markdown",
   "metadata": {
    "slideshow": {
     "slide_type": "slide"
    }
   },
   "source": [
    "## `matplotlib`"
   ]
  },
  {
   "cell_type": "code",
   "execution_count": 9,
   "metadata": {
    "slideshow": {
     "slide_type": "fragment"
    }
   },
   "outputs": [],
   "source": [
    "import matplotlib.pyplot as plt\n",
    "import pandas as pd\n",
    "import numpy as np"
   ]
  },
  {
   "cell_type": "markdown",
   "metadata": {
    "slideshow": {
     "slide_type": "slide"
    }
   },
   "source": [
    "  "
   ]
  },
  {
   "cell_type": "code",
   "execution_count": 10,
   "metadata": {},
   "outputs": [
    {
     "data": {
      "text/plain": [
       "[<matplotlib.lines.Line2D at 0x7fbd2e9112b0>]"
      ]
     },
     "execution_count": 10,
     "metadata": {},
     "output_type": "execute_result"
    },
    {
     "data": {
      "image/png": "[encoded data removed]",
      "text/plain": [
       "<Figure size 432x288 with 1 Axes>"
      ]
     },
     "metadata": {
      "needs_background": "light"
     },
     "output_type": "display_data"
    }
   ],
   "source": [
    "#create a sin range -5 to 5\n",
    "\n",
    "xs =  np.linspace(-5,5)\n",
    "ys = np.sin(xs)\n",
    "\n",
    "plt.plot(xs,ys)"
   ]
  },
  {
   "cell_type": "markdown",
   "metadata": {
    "slideshow": {
     "slide_type": "slide"
    }
   },
   "source": [
    "## `pandas`"
   ]
  },
  {
   "cell_type": "markdown",
   "metadata": {
    "slideshow": {
     "slide_type": "fragment"
    }
   },
   "source": [
    "### Getting started with pandas"
   ]
  },
  {
   "cell_type": "code",
   "execution_count": null,
   "metadata": {
    "slideshow": {
     "slide_type": "fragment"
    }
   },
   "outputs": [],
   "source": []
  },
  {
   "cell_type": "markdown",
   "metadata": {
    "slideshow": {
     "slide_type": "slide"
    }
   },
   "source": [
    "### `pandas` data structures"
   ]
  },
  {
   "cell_type": "markdown",
   "metadata": {
    "slideshow": {
     "slide_type": "fragment"
    }
   },
   "source": [
    "### Series\n",
    "\n",
    "The base pandas abstraction. You can thing of it as the love child of a numpy array and a dictionary."
   ]
  },
  {
   "cell_type": "code",
   "execution_count": 11,
   "metadata": {
    "slideshow": {
     "slide_type": "fragment"
    }
   },
   "outputs": [
    {
     "data": {
      "text/plain": [
       "0     8\n",
       "1    32\n",
       "2    51\n",
       "3     1\n",
       "dtype: int64"
      ]
     },
     "execution_count": 11,
     "metadata": {},
     "output_type": "execute_result"
    }
   ],
   "source": [
    "s = pd.Series([8,32,51,1])\n",
    "s"
   ]
  },
  {
   "cell_type": "code",
   "execution_count": 12,
   "metadata": {},
   "outputs": [
    {
     "data": {
      "text/plain": [
       "0     8.0\n",
       "1    32.0\n",
       "2    51.0\n",
       "3     1.1\n",
       "dtype: float64"
      ]
     },
     "execution_count": 12,
     "metadata": {},
     "output_type": "execute_result"
    }
   ],
   "source": [
    "pd.Series([8,32,51,1.1])"
   ]
  },
  {
   "cell_type": "code",
   "execution_count": 13,
   "metadata": {},
   "outputs": [
    {
     "data": {
      "text/plain": [
       "RangeIndex(start=0, stop=4, step=1)"
      ]
     },
     "execution_count": 13,
     "metadata": {},
     "output_type": "execute_result"
    }
   ],
   "source": [
    "s.index"
   ]
  },
  {
   "cell_type": "code",
   "execution_count": 14,
   "metadata": {},
   "outputs": [
    {
     "data": {
      "text/plain": [
       "array([ 8, 32, 51,  1])"
      ]
     },
     "execution_count": 14,
     "metadata": {},
     "output_type": "execute_result"
    }
   ],
   "source": [
    "s.values"
   ]
  },
  {
   "cell_type": "markdown",
   "metadata": {},
   "source": [
    "If we provide an index, pandas will use it. If not, it will automatically create one."
   ]
  },
  {
   "cell_type": "code",
   "execution_count": 15,
   "metadata": {},
   "outputs": [
    {
     "data": {
      "text/plain": [
       "a    22\n",
       "b    54\n",
       "c     2\n",
       "d     8\n",
       "dtype: int64"
      ]
     },
     "execution_count": 15,
     "metadata": {},
     "output_type": "execute_result"
    }
   ],
   "source": [
    "s2 = pd.Series([22,54,2,8],index = ['a','b','c','d'])\n",
    "s2"
   ]
  },
  {
   "cell_type": "markdown",
   "metadata": {},
   "source": [
    "We can create Series from dictionaries:"
   ]
  },
  {
   "cell_type": "code",
   "execution_count": 16,
   "metadata": {},
   "outputs": [
    {
     "data": {
      "text/plain": [
       "a    22\n",
       "b    54\n",
       "c     2\n",
       "d     8\n",
       "dtype: int64"
      ]
     },
     "execution_count": 16,
     "metadata": {},
     "output_type": "execute_result"
    }
   ],
   "source": [
    "dict = {'a': 22, 'b': 54, 'c': 2, 'd': 8}\n",
    "pd.Series(dict)"
   ]
  },
  {
   "cell_type": "markdown",
   "metadata": {},
   "source": [
    "And here is where the magic happens: numpy arrays only identify their contents by position. In contrast, pandas knows their \"name\" and will align them based on their indexes:"
   ]
  },
  {
   "cell_type": "code",
   "execution_count": 17,
   "metadata": {},
   "outputs": [
    {
     "data": {
      "text/plain": [
       "22"
      ]
     },
     "execution_count": 17,
     "metadata": {},
     "output_type": "execute_result"
    }
   ],
   "source": [
    "s2['a']"
   ]
  },
  {
   "cell_type": "code",
   "execution_count": 18,
   "metadata": {},
   "outputs": [
    {
     "data": {
      "text/plain": [
       "a    22\n",
       "b    54\n",
       "dtype: int64"
      ]
     },
     "execution_count": 18,
     "metadata": {},
     "output_type": "execute_result"
    }
   ],
   "source": [
    "s2[s2 > 20]"
   ]
  },
  {
   "cell_type": "markdown",
   "metadata": {
    "slideshow": {
     "slide_type": "slide"
    }
   },
   "source": [
    "### DataFrame\n",
    "\n",
    "This is the object you'll work most of the time with. It represents a table of _m_ observations x _n_ variables. Each variable, or column, is a Series.\n",
    "\n",
    "\n",
    "```python\n",
    "dfdata = {\n",
    "    'province' : ['M', 'M', 'M', 'B', 'B'],\n",
    "    'population': [1.5e6, 2e6, 3e6, 5e5, 1.5e6],\n",
    "    'year' : [1900, 1950, 2000, 1900, 2000]   \n",
    "}\n",
    "\n",
    "df = pd.DataFrame(dfdata)\n",
    "```"
   ]
  },
  {
   "cell_type": "code",
   "execution_count": 19,
   "metadata": {},
   "outputs": [
    {
     "data": {
      "text/html": [
       "<div>\n",
       "<style scoped>\n",
       "    .dataframe tbody tr th:only-of-type {\n",
       "        vertical-align: middle;\n",
       "    }\n",
       "\n",
       "    .dataframe tbody tr th {\n",
       "        vertical-align: top;\n",
       "    }\n",
       "\n",
       "    .dataframe thead th {\n",
       "        text-align: right;\n",
       "    }\n",
       "</style>\n",
       "<table border=\"1\" class=\"dataframe\">\n",
       "  <thead>\n",
       "    <tr style=\"text-align: right;\">\n",
       "      <th></th>\n",
       "      <th>province</th>\n",
       "      <th>population</th>\n",
       "      <th>year</th>\n",
       "    </tr>\n",
       "  </thead>\n",
       "  <tbody>\n",
       "    <tr>\n",
       "      <th>0</th>\n",
       "      <td>M</td>\n",
       "      <td>1500000.0</td>\n",
       "      <td>1900</td>\n",
       "    </tr>\n",
       "    <tr>\n",
       "      <th>1</th>\n",
       "      <td>M</td>\n",
       "      <td>2000000.0</td>\n",
       "      <td>1950</td>\n",
       "    </tr>\n",
       "    <tr>\n",
       "      <th>2</th>\n",
       "      <td>M</td>\n",
       "      <td>3000000.0</td>\n",
       "      <td>2000</td>\n",
       "    </tr>\n",
       "    <tr>\n",
       "      <th>3</th>\n",
       "      <td>B</td>\n",
       "      <td>500000.0</td>\n",
       "      <td>1900</td>\n",
       "    </tr>\n",
       "    <tr>\n",
       "      <th>4</th>\n",
       "      <td>B</td>\n",
       "      <td>1500000.0</td>\n",
       "      <td>2000</td>\n",
       "    </tr>\n",
       "  </tbody>\n",
       "</table>\n",
       "</div>"
      ],
      "text/plain": [
       "  province  population  year\n",
       "0        M   1500000.0  1900\n",
       "1        M   2000000.0  1950\n",
       "2        M   3000000.0  2000\n",
       "3        B    500000.0  1900\n",
       "4        B   1500000.0  2000"
      ]
     },
     "execution_count": 19,
     "metadata": {},
     "output_type": "execute_result"
    }
   ],
   "source": [
    "dfdata = {\n",
    "    'province' : ['M', 'M', 'M', 'B', 'B'],\n",
    "    'population': [1.5e6, 2e6, 3e6, 5e5, 1.5e6],\n",
    "    'year' : [1900, 1950, 2000, 1900, 2000]   \n",
    "}\n",
    "\n",
    "df = pd.DataFrame(dfdata)\n",
    "df"
   ]
  },
  {
   "cell_type": "code",
   "execution_count": 20,
   "metadata": {},
   "outputs": [
    {
     "data": {
      "text/html": [
       "<div>\n",
       "<style scoped>\n",
       "    .dataframe tbody tr th:only-of-type {\n",
       "        vertical-align: middle;\n",
       "    }\n",
       "\n",
       "    .dataframe tbody tr th {\n",
       "        vertical-align: top;\n",
       "    }\n",
       "\n",
       "    .dataframe thead th {\n",
       "        text-align: right;\n",
       "    }\n",
       "</style>\n",
       "<table border=\"1\" class=\"dataframe\">\n",
       "  <thead>\n",
       "    <tr style=\"text-align: right;\">\n",
       "      <th></th>\n",
       "      <th>year</th>\n",
       "      <th>province</th>\n",
       "    </tr>\n",
       "  </thead>\n",
       "  <tbody>\n",
       "    <tr>\n",
       "      <th>0</th>\n",
       "      <td>1900</td>\n",
       "      <td>M</td>\n",
       "    </tr>\n",
       "    <tr>\n",
       "      <th>1</th>\n",
       "      <td>1950</td>\n",
       "      <td>M</td>\n",
       "    </tr>\n",
       "    <tr>\n",
       "      <th>2</th>\n",
       "      <td>2000</td>\n",
       "      <td>M</td>\n",
       "    </tr>\n",
       "    <tr>\n",
       "      <th>3</th>\n",
       "      <td>1900</td>\n",
       "      <td>B</td>\n",
       "    </tr>\n",
       "    <tr>\n",
       "      <th>4</th>\n",
       "      <td>2000</td>\n",
       "      <td>B</td>\n",
       "    </tr>\n",
       "  </tbody>\n",
       "</table>\n",
       "</div>"
      ],
      "text/plain": [
       "   year province\n",
       "0  1900        M\n",
       "1  1950        M\n",
       "2  2000        M\n",
       "3  1900        B\n",
       "4  2000        B"
      ]
     },
     "execution_count": 20,
     "metadata": {},
     "output_type": "execute_result"
    }
   ],
   "source": [
    "pd.DataFrame(dfdata, columns = ['year','province'])"
   ]
  },
  {
   "cell_type": "code",
   "execution_count": 21,
   "metadata": {},
   "outputs": [
    {
     "data": {
      "text/plain": [
       "0    1500000.0\n",
       "1    2000000.0\n",
       "2    3000000.0\n",
       "3     500000.0\n",
       "4    1500000.0\n",
       "Name: population, dtype: float64"
      ]
     },
     "execution_count": 21,
     "metadata": {},
     "output_type": "execute_result"
    }
   ],
   "source": [
    "df.population # Bad!!"
   ]
  },
  {
   "cell_type": "code",
   "execution_count": 22,
   "metadata": {},
   "outputs": [
    {
     "data": {
      "text/plain": [
       "0    1500000.0\n",
       "1    2000000.0\n",
       "2    3000000.0\n",
       "3     500000.0\n",
       "4    1500000.0\n",
       "Name: population, dtype: float64"
      ]
     },
     "execution_count": 22,
     "metadata": {},
     "output_type": "execute_result"
    }
   ],
   "source": [
    "df['population']  # Good!"
   ]
  },
  {
   "cell_type": "code",
   "execution_count": 23,
   "metadata": {},
   "outputs": [],
   "source": [
    "df.index = list('abcde')"
   ]
  },
  {
   "cell_type": "code",
   "execution_count": 24,
   "metadata": {},
   "outputs": [
    {
     "data": {
      "text/plain": [
       "province              M\n",
       "population    1500000.0\n",
       "year               1900\n",
       "Name: a, dtype: object"
      ]
     },
     "execution_count": 24,
     "metadata": {},
     "output_type": "execute_result"
    }
   ],
   "source": [
    "#We use loc with the index name\n",
    "df.loc['a']"
   ]
  },
  {
   "cell_type": "code",
   "execution_count": 25,
   "metadata": {},
   "outputs": [
    {
     "data": {
      "text/plain": [
       "province              M\n",
       "population    1500000.0\n",
       "year               1900\n",
       "Name: a, dtype: object"
      ]
     },
     "execution_count": 25,
     "metadata": {},
     "output_type": "execute_result"
    }
   ],
   "source": [
    "#We use iloc with the index\n",
    "df.iloc[0]"
   ]
  },
  {
   "cell_type": "code",
   "execution_count": 26,
   "metadata": {},
   "outputs": [
    {
     "data": {
      "text/html": [
       "<div>\n",
       "<style scoped>\n",
       "    .dataframe tbody tr th:only-of-type {\n",
       "        vertical-align: middle;\n",
       "    }\n",
       "\n",
       "    .dataframe tbody tr th {\n",
       "        vertical-align: top;\n",
       "    }\n",
       "\n",
       "    .dataframe thead th {\n",
       "        text-align: right;\n",
       "    }\n",
       "</style>\n",
       "<table border=\"1\" class=\"dataframe\">\n",
       "  <thead>\n",
       "    <tr style=\"text-align: right;\">\n",
       "      <th></th>\n",
       "      <th>province</th>\n",
       "      <th>population</th>\n",
       "      <th>year</th>\n",
       "      <th>capital</th>\n",
       "    </tr>\n",
       "  </thead>\n",
       "  <tbody>\n",
       "    <tr>\n",
       "      <th>a</th>\n",
       "      <td>M</td>\n",
       "      <td>1500000.0</td>\n",
       "      <td>1900</td>\n",
       "      <td>True</td>\n",
       "    </tr>\n",
       "    <tr>\n",
       "      <th>b</th>\n",
       "      <td>M</td>\n",
       "      <td>2000000.0</td>\n",
       "      <td>1950</td>\n",
       "      <td>True</td>\n",
       "    </tr>\n",
       "    <tr>\n",
       "      <th>c</th>\n",
       "      <td>M</td>\n",
       "      <td>3000000.0</td>\n",
       "      <td>2000</td>\n",
       "      <td>True</td>\n",
       "    </tr>\n",
       "    <tr>\n",
       "      <th>d</th>\n",
       "      <td>B</td>\n",
       "      <td>500000.0</td>\n",
       "      <td>1900</td>\n",
       "      <td>False</td>\n",
       "    </tr>\n",
       "    <tr>\n",
       "      <th>e</th>\n",
       "      <td>B</td>\n",
       "      <td>1500000.0</td>\n",
       "      <td>2000</td>\n",
       "      <td>False</td>\n",
       "    </tr>\n",
       "  </tbody>\n",
       "</table>\n",
       "</div>"
      ],
      "text/plain": [
       "  province  population  year  capital\n",
       "a        M   1500000.0  1900     True\n",
       "b        M   2000000.0  1950     True\n",
       "c        M   3000000.0  2000     True\n",
       "d        B    500000.0  1900    False\n",
       "e        B   1500000.0  2000    False"
      ]
     },
     "execution_count": 26,
     "metadata": {},
     "output_type": "execute_result"
    }
   ],
   "source": [
    "df['capital'] = df['province'] == 'M'\n",
    "df"
   ]
  },
  {
   "cell_type": "code",
   "execution_count": 27,
   "metadata": {},
   "outputs": [
    {
     "data": {
      "text/html": [
       "<div>\n",
       "<style scoped>\n",
       "    .dataframe tbody tr th:only-of-type {\n",
       "        vertical-align: middle;\n",
       "    }\n",
       "\n",
       "    .dataframe tbody tr th {\n",
       "        vertical-align: top;\n",
       "    }\n",
       "\n",
       "    .dataframe thead th {\n",
       "        text-align: right;\n",
       "    }\n",
       "</style>\n",
       "<table border=\"1\" class=\"dataframe\">\n",
       "  <thead>\n",
       "    <tr style=\"text-align: right;\">\n",
       "      <th></th>\n",
       "      <th>population</th>\n",
       "      <th>year</th>\n",
       "    </tr>\n",
       "  </thead>\n",
       "  <tbody>\n",
       "    <tr>\n",
       "      <th>count</th>\n",
       "      <td>5.000000e+00</td>\n",
       "      <td>5.0</td>\n",
       "    </tr>\n",
       "    <tr>\n",
       "      <th>mean</th>\n",
       "      <td>1.700000e+06</td>\n",
       "      <td>1950.0</td>\n",
       "    </tr>\n",
       "    <tr>\n",
       "      <th>std</th>\n",
       "      <td>9.082951e+05</td>\n",
       "      <td>50.0</td>\n",
       "    </tr>\n",
       "    <tr>\n",
       "      <th>min</th>\n",
       "      <td>5.000000e+05</td>\n",
       "      <td>1900.0</td>\n",
       "    </tr>\n",
       "    <tr>\n",
       "      <th>25%</th>\n",
       "      <td>1.500000e+06</td>\n",
       "      <td>1900.0</td>\n",
       "    </tr>\n",
       "    <tr>\n",
       "      <th>50%</th>\n",
       "      <td>1.500000e+06</td>\n",
       "      <td>1950.0</td>\n",
       "    </tr>\n",
       "    <tr>\n",
       "      <th>75%</th>\n",
       "      <td>2.000000e+06</td>\n",
       "      <td>2000.0</td>\n",
       "    </tr>\n",
       "    <tr>\n",
       "      <th>max</th>\n",
       "      <td>3.000000e+06</td>\n",
       "      <td>2000.0</td>\n",
       "    </tr>\n",
       "  </tbody>\n",
       "</table>\n",
       "</div>"
      ],
      "text/plain": [
       "         population    year\n",
       "count  5.000000e+00     5.0\n",
       "mean   1.700000e+06  1950.0\n",
       "std    9.082951e+05    50.0\n",
       "min    5.000000e+05  1900.0\n",
       "25%    1.500000e+06  1900.0\n",
       "50%    1.500000e+06  1950.0\n",
       "75%    2.000000e+06  2000.0\n",
       "max    3.000000e+06  2000.0"
      ]
     },
     "execution_count": 27,
     "metadata": {},
     "output_type": "execute_result"
    }
   ],
   "source": [
    "df.describe()"
   ]
  },
  {
   "cell_type": "markdown",
   "metadata": {
    "slideshow": {
     "slide_type": "slide"
    }
   },
   "source": [
    "### Index objects\n",
    "\n",
    "Indexes are immutable."
   ]
  },
  {
   "cell_type": "code",
   "execution_count": 28,
   "metadata": {},
   "outputs": [],
   "source": [
    "#Not possible to change a single index you have to change completely\n",
    "#df.index[2] = 'x' #Bad!!"
   ]
  },
  {
   "cell_type": "markdown",
   "metadata": {
    "slideshow": {
     "slide_type": "slide"
    }
   },
   "source": [
    "### Dropping entries from an axis"
   ]
  },
  {
   "cell_type": "code",
   "execution_count": 29,
   "metadata": {},
   "outputs": [
    {
     "data": {
      "text/html": [
       "<div>\n",
       "<style scoped>\n",
       "    .dataframe tbody tr th:only-of-type {\n",
       "        vertical-align: middle;\n",
       "    }\n",
       "\n",
       "    .dataframe tbody tr th {\n",
       "        vertical-align: top;\n",
       "    }\n",
       "\n",
       "    .dataframe thead th {\n",
       "        text-align: right;\n",
       "    }\n",
       "</style>\n",
       "<table border=\"1\" class=\"dataframe\">\n",
       "  <thead>\n",
       "    <tr style=\"text-align: right;\">\n",
       "      <th></th>\n",
       "      <th>province</th>\n",
       "      <th>population</th>\n",
       "      <th>year</th>\n",
       "      <th>capital</th>\n",
       "    </tr>\n",
       "  </thead>\n",
       "  <tbody>\n",
       "    <tr>\n",
       "      <th>b</th>\n",
       "      <td>M</td>\n",
       "      <td>2000000.0</td>\n",
       "      <td>1950</td>\n",
       "      <td>True</td>\n",
       "    </tr>\n",
       "    <tr>\n",
       "      <th>c</th>\n",
       "      <td>M</td>\n",
       "      <td>3000000.0</td>\n",
       "      <td>2000</td>\n",
       "      <td>True</td>\n",
       "    </tr>\n",
       "    <tr>\n",
       "      <th>e</th>\n",
       "      <td>B</td>\n",
       "      <td>1500000.0</td>\n",
       "      <td>2000</td>\n",
       "      <td>False</td>\n",
       "    </tr>\n",
       "  </tbody>\n",
       "</table>\n",
       "</div>"
      ],
      "text/plain": [
       "  province  population  year  capital\n",
       "b        M   2000000.0  1950     True\n",
       "c        M   3000000.0  2000     True\n",
       "e        B   1500000.0  2000    False"
      ]
     },
     "execution_count": 29,
     "metadata": {},
     "output_type": "execute_result"
    }
   ],
   "source": [
    "df.drop(['a','d'])"
   ]
  },
  {
   "cell_type": "markdown",
   "metadata": {},
   "source": [
    "By default, `drop()` doesn't modify the original Series- it creates a copy. We can change that with the argument `inplace`."
   ]
  },
  {
   "cell_type": "code",
   "execution_count": 30,
   "metadata": {},
   "outputs": [
    {
     "data": {
      "text/html": [
       "<div>\n",
       "<style scoped>\n",
       "    .dataframe tbody tr th:only-of-type {\n",
       "        vertical-align: middle;\n",
       "    }\n",
       "\n",
       "    .dataframe tbody tr th {\n",
       "        vertical-align: top;\n",
       "    }\n",
       "\n",
       "    .dataframe thead th {\n",
       "        text-align: right;\n",
       "    }\n",
       "</style>\n",
       "<table border=\"1\" class=\"dataframe\">\n",
       "  <thead>\n",
       "    <tr style=\"text-align: right;\">\n",
       "      <th></th>\n",
       "      <th>province</th>\n",
       "      <th>population</th>\n",
       "      <th>year</th>\n",
       "      <th>capital</th>\n",
       "    </tr>\n",
       "  </thead>\n",
       "  <tbody>\n",
       "    <tr>\n",
       "      <th>a</th>\n",
       "      <td>M</td>\n",
       "      <td>1500000.0</td>\n",
       "      <td>1900</td>\n",
       "      <td>True</td>\n",
       "    </tr>\n",
       "    <tr>\n",
       "      <th>b</th>\n",
       "      <td>M</td>\n",
       "      <td>2000000.0</td>\n",
       "      <td>1950</td>\n",
       "      <td>True</td>\n",
       "    </tr>\n",
       "    <tr>\n",
       "      <th>c</th>\n",
       "      <td>M</td>\n",
       "      <td>3000000.0</td>\n",
       "      <td>2000</td>\n",
       "      <td>True</td>\n",
       "    </tr>\n",
       "    <tr>\n",
       "      <th>d</th>\n",
       "      <td>B</td>\n",
       "      <td>500000.0</td>\n",
       "      <td>1900</td>\n",
       "      <td>False</td>\n",
       "    </tr>\n",
       "    <tr>\n",
       "      <th>e</th>\n",
       "      <td>B</td>\n",
       "      <td>1500000.0</td>\n",
       "      <td>2000</td>\n",
       "      <td>False</td>\n",
       "    </tr>\n",
       "  </tbody>\n",
       "</table>\n",
       "</div>"
      ],
      "text/plain": [
       "  province  population  year  capital\n",
       "a        M   1500000.0  1900     True\n",
       "b        M   2000000.0  1950     True\n",
       "c        M   3000000.0  2000     True\n",
       "d        B    500000.0  1900    False\n",
       "e        B   1500000.0  2000    False"
      ]
     },
     "execution_count": 30,
     "metadata": {},
     "output_type": "execute_result"
    }
   ],
   "source": [
    "df2 =df.copy()\n",
    "df2"
   ]
  },
  {
   "cell_type": "code",
   "execution_count": 31,
   "metadata": {},
   "outputs": [
    {
     "data": {
      "text/html": [
       "<div>\n",
       "<style scoped>\n",
       "    .dataframe tbody tr th:only-of-type {\n",
       "        vertical-align: middle;\n",
       "    }\n",
       "\n",
       "    .dataframe tbody tr th {\n",
       "        vertical-align: top;\n",
       "    }\n",
       "\n",
       "    .dataframe thead th {\n",
       "        text-align: right;\n",
       "    }\n",
       "</style>\n",
       "<table border=\"1\" class=\"dataframe\">\n",
       "  <thead>\n",
       "    <tr style=\"text-align: right;\">\n",
       "      <th></th>\n",
       "      <th>province</th>\n",
       "      <th>population</th>\n",
       "      <th>year</th>\n",
       "      <th>capital</th>\n",
       "    </tr>\n",
       "  </thead>\n",
       "  <tbody>\n",
       "    <tr>\n",
       "      <th>b</th>\n",
       "      <td>M</td>\n",
       "      <td>2000000.0</td>\n",
       "      <td>1950</td>\n",
       "      <td>True</td>\n",
       "    </tr>\n",
       "    <tr>\n",
       "      <th>c</th>\n",
       "      <td>M</td>\n",
       "      <td>3000000.0</td>\n",
       "      <td>2000</td>\n",
       "      <td>True</td>\n",
       "    </tr>\n",
       "    <tr>\n",
       "      <th>d</th>\n",
       "      <td>B</td>\n",
       "      <td>500000.0</td>\n",
       "      <td>1900</td>\n",
       "      <td>False</td>\n",
       "    </tr>\n",
       "  </tbody>\n",
       "</table>\n",
       "</div>"
      ],
      "text/plain": [
       "  province  population  year  capital\n",
       "b        M   2000000.0  1950     True\n",
       "c        M   3000000.0  2000     True\n",
       "d        B    500000.0  1900    False"
      ]
     },
     "execution_count": 31,
     "metadata": {},
     "output_type": "execute_result"
    }
   ],
   "source": [
    "df2.drop(['a','e'], inplace = True)\n",
    "df2"
   ]
  },
  {
   "cell_type": "markdown",
   "metadata": {
    "slideshow": {
     "slide_type": "slide"
    }
   },
   "source": [
    "### Indexing, selection, and filtering\n",
    "\n",
    "The key here is that we can build boolean Series that we can use to index the original Series or DataFrame. Those booleans can be combined with bitwise boolean operators (&, |, ~) to get filters that are as complex as we need. "
   ]
  },
  {
   "cell_type": "code",
   "execution_count": 32,
   "metadata": {},
   "outputs": [
    {
     "data": {
      "text/plain": [
       "0     8\n",
       "1    32\n",
       "2    51\n",
       "3     1\n",
       "dtype: int64"
      ]
     },
     "execution_count": 32,
     "metadata": {},
     "output_type": "execute_result"
    }
   ],
   "source": [
    "s"
   ]
  },
  {
   "cell_type": "code",
   "execution_count": 33,
   "metadata": {},
   "outputs": [
    {
     "data": {
      "text/plain": [
       "8"
      ]
     },
     "execution_count": 33,
     "metadata": {},
     "output_type": "execute_result"
    }
   ],
   "source": [
    "s[0]"
   ]
  },
  {
   "cell_type": "code",
   "execution_count": 34,
   "metadata": {},
   "outputs": [
    {
     "data": {
      "text/plain": [
       "32"
      ]
     },
     "execution_count": 34,
     "metadata": {},
     "output_type": "execute_result"
    }
   ],
   "source": [
    "s[1]"
   ]
  },
  {
   "cell_type": "code",
   "execution_count": 35,
   "metadata": {},
   "outputs": [
    {
     "data": {
      "text/plain": [
       "32"
      ]
     },
     "execution_count": 35,
     "metadata": {},
     "output_type": "execute_result"
    }
   ],
   "source": [
    "s.loc[1]"
   ]
  },
  {
   "cell_type": "code",
   "execution_count": 36,
   "metadata": {},
   "outputs": [
    {
     "data": {
      "text/plain": [
       "a    1900\n",
       "b    1950\n",
       "c    2000\n",
       "d    1900\n",
       "e    2000\n",
       "Name: year, dtype: int64"
      ]
     },
     "execution_count": 36,
     "metadata": {},
     "output_type": "execute_result"
    }
   ],
   "source": [
    "df['year']"
   ]
  },
  {
   "cell_type": "code",
   "execution_count": 37,
   "metadata": {},
   "outputs": [
    {
     "data": {
      "text/html": [
       "<div>\n",
       "<style scoped>\n",
       "    .dataframe tbody tr th:only-of-type {\n",
       "        vertical-align: middle;\n",
       "    }\n",
       "\n",
       "    .dataframe tbody tr th {\n",
       "        vertical-align: top;\n",
       "    }\n",
       "\n",
       "    .dataframe thead th {\n",
       "        text-align: right;\n",
       "    }\n",
       "</style>\n",
       "<table border=\"1\" class=\"dataframe\">\n",
       "  <thead>\n",
       "    <tr style=\"text-align: right;\">\n",
       "      <th></th>\n",
       "      <th>province</th>\n",
       "      <th>population</th>\n",
       "      <th>year</th>\n",
       "      <th>capital</th>\n",
       "    </tr>\n",
       "  </thead>\n",
       "  <tbody>\n",
       "    <tr>\n",
       "      <th>c</th>\n",
       "      <td>M</td>\n",
       "      <td>3000000.0</td>\n",
       "      <td>2000</td>\n",
       "      <td>True</td>\n",
       "    </tr>\n",
       "    <tr>\n",
       "      <th>e</th>\n",
       "      <td>B</td>\n",
       "      <td>1500000.0</td>\n",
       "      <td>2000</td>\n",
       "      <td>False</td>\n",
       "    </tr>\n",
       "  </tbody>\n",
       "</table>\n",
       "</div>"
      ],
      "text/plain": [
       "  province  population  year  capital\n",
       "c        M   3000000.0  2000     True\n",
       "e        B   1500000.0  2000    False"
      ]
     },
     "execution_count": 37,
     "metadata": {},
     "output_type": "execute_result"
    }
   ],
   "source": [
    "df[df['year'] > 1970]"
   ]
  },
  {
   "cell_type": "code",
   "execution_count": 38,
   "metadata": {},
   "outputs": [
    {
     "data": {
      "text/html": [
       "<div>\n",
       "<style scoped>\n",
       "    .dataframe tbody tr th:only-of-type {\n",
       "        vertical-align: middle;\n",
       "    }\n",
       "\n",
       "    .dataframe tbody tr th {\n",
       "        vertical-align: top;\n",
       "    }\n",
       "\n",
       "    .dataframe thead th {\n",
       "        text-align: right;\n",
       "    }\n",
       "</style>\n",
       "<table border=\"1\" class=\"dataframe\">\n",
       "  <thead>\n",
       "    <tr style=\"text-align: right;\">\n",
       "      <th></th>\n",
       "      <th>province</th>\n",
       "      <th>population</th>\n",
       "      <th>year</th>\n",
       "      <th>capital</th>\n",
       "    </tr>\n",
       "  </thead>\n",
       "  <tbody>\n",
       "    <tr>\n",
       "      <th>b</th>\n",
       "      <td>M</td>\n",
       "      <td>2000000.0</td>\n",
       "      <td>1950</td>\n",
       "      <td>True</td>\n",
       "    </tr>\n",
       "    <tr>\n",
       "      <th>c</th>\n",
       "      <td>M</td>\n",
       "      <td>3000000.0</td>\n",
       "      <td>2000</td>\n",
       "      <td>True</td>\n",
       "    </tr>\n",
       "    <tr>\n",
       "      <th>e</th>\n",
       "      <td>B</td>\n",
       "      <td>1500000.0</td>\n",
       "      <td>2000</td>\n",
       "      <td>False</td>\n",
       "    </tr>\n",
       "  </tbody>\n",
       "</table>\n",
       "</div>"
      ],
      "text/plain": [
       "  province  population  year  capital\n",
       "b        M   2000000.0  1950     True\n",
       "c        M   3000000.0  2000     True\n",
       "e        B   1500000.0  2000    False"
      ]
     },
     "execution_count": 38,
     "metadata": {},
     "output_type": "execute_result"
    }
   ],
   "source": [
    "post_war = df['year'] > 1939\n",
    "\n",
    "df[post_war]"
   ]
  },
  {
   "cell_type": "code",
   "execution_count": 39,
   "metadata": {},
   "outputs": [
    {
     "data": {
      "text/html": [
       "<div>\n",
       "<style scoped>\n",
       "    .dataframe tbody tr th:only-of-type {\n",
       "        vertical-align: middle;\n",
       "    }\n",
       "\n",
       "    .dataframe tbody tr th {\n",
       "        vertical-align: top;\n",
       "    }\n",
       "\n",
       "    .dataframe thead th {\n",
       "        text-align: right;\n",
       "    }\n",
       "</style>\n",
       "<table border=\"1\" class=\"dataframe\">\n",
       "  <thead>\n",
       "    <tr style=\"text-align: right;\">\n",
       "      <th></th>\n",
       "      <th>province</th>\n",
       "      <th>population</th>\n",
       "      <th>year</th>\n",
       "    </tr>\n",
       "  </thead>\n",
       "  <tbody>\n",
       "    <tr>\n",
       "      <th>b</th>\n",
       "      <td>M</td>\n",
       "      <td>2000000.0</td>\n",
       "      <td>1950</td>\n",
       "    </tr>\n",
       "    <tr>\n",
       "      <th>c</th>\n",
       "      <td>M</td>\n",
       "      <td>3000000.0</td>\n",
       "      <td>2000</td>\n",
       "    </tr>\n",
       "    <tr>\n",
       "      <th>e</th>\n",
       "      <td>B</td>\n",
       "      <td>1500000.0</td>\n",
       "      <td>2000</td>\n",
       "    </tr>\n",
       "  </tbody>\n",
       "</table>\n",
       "</div>"
      ],
      "text/plain": [
       "  province  population  year\n",
       "b        M   2000000.0  1950\n",
       "c        M   3000000.0  2000\n",
       "e        B   1500000.0  2000"
      ]
     },
     "execution_count": 39,
     "metadata": {},
     "output_type": "execute_result"
    }
   ],
   "source": [
    "df[['province','population','year']][post_war]"
   ]
  },
  {
   "cell_type": "code",
   "execution_count": 40,
   "metadata": {},
   "outputs": [
    {
     "data": {
      "text/html": [
       "<div>\n",
       "<style scoped>\n",
       "    .dataframe tbody tr th:only-of-type {\n",
       "        vertical-align: middle;\n",
       "    }\n",
       "\n",
       "    .dataframe tbody tr th {\n",
       "        vertical-align: top;\n",
       "    }\n",
       "\n",
       "    .dataframe thead th {\n",
       "        text-align: right;\n",
       "    }\n",
       "</style>\n",
       "<table border=\"1\" class=\"dataframe\">\n",
       "  <thead>\n",
       "    <tr style=\"text-align: right;\">\n",
       "      <th></th>\n",
       "      <th>province</th>\n",
       "      <th>population</th>\n",
       "      <th>year</th>\n",
       "      <th>capital</th>\n",
       "    </tr>\n",
       "  </thead>\n",
       "  <tbody>\n",
       "    <tr>\n",
       "      <th>b</th>\n",
       "      <td>M</td>\n",
       "      <td>2000000.0</td>\n",
       "      <td>1950</td>\n",
       "      <td>True</td>\n",
       "    </tr>\n",
       "    <tr>\n",
       "      <th>c</th>\n",
       "      <td>M</td>\n",
       "      <td>3000000.0</td>\n",
       "      <td>2000</td>\n",
       "      <td>True</td>\n",
       "    </tr>\n",
       "  </tbody>\n",
       "</table>\n",
       "</div>"
      ],
      "text/plain": [
       "  province  population  year  capital\n",
       "b        M   2000000.0  1950     True\n",
       "c        M   3000000.0  2000     True"
      ]
     },
     "execution_count": 40,
     "metadata": {},
     "output_type": "execute_result"
    }
   ],
   "source": [
    "df[(df['year'] >= 1950) & (df['province'] == 'M')]"
   ]
  },
  {
   "cell_type": "markdown",
   "metadata": {
    "slideshow": {
     "slide_type": "slide"
    }
   },
   "source": [
    "### Function application and mapping\n",
    "\n",
    "Function application and mapping allows us to modify the elements of a DataFrame (columns with apply or elements with applymap) without for loops. This way we are not constrained to the functions already implemented by pandas or numpy."
   ]
  },
  {
   "cell_type": "code",
   "execution_count": 41,
   "metadata": {},
   "outputs": [
    {
     "data": {
      "text/html": [
       "<div>\n",
       "<style scoped>\n",
       "    .dataframe tbody tr th:only-of-type {\n",
       "        vertical-align: middle;\n",
       "    }\n",
       "\n",
       "    .dataframe tbody tr th {\n",
       "        vertical-align: top;\n",
       "    }\n",
       "\n",
       "    .dataframe thead th {\n",
       "        text-align: right;\n",
       "    }\n",
       "</style>\n",
       "<table border=\"1\" class=\"dataframe\">\n",
       "  <thead>\n",
       "    <tr style=\"text-align: right;\">\n",
       "      <th></th>\n",
       "      <th>province</th>\n",
       "      <th>population</th>\n",
       "      <th>year</th>\n",
       "      <th>capital</th>\n",
       "    </tr>\n",
       "  </thead>\n",
       "  <tbody>\n",
       "    <tr>\n",
       "      <th>a</th>\n",
       "      <td>M</td>\n",
       "      <td>1</td>\n",
       "      <td>1</td>\n",
       "      <td>T</td>\n",
       "    </tr>\n",
       "    <tr>\n",
       "      <th>b</th>\n",
       "      <td>M</td>\n",
       "      <td>2</td>\n",
       "      <td>1</td>\n",
       "      <td>T</td>\n",
       "    </tr>\n",
       "    <tr>\n",
       "      <th>c</th>\n",
       "      <td>M</td>\n",
       "      <td>3</td>\n",
       "      <td>2</td>\n",
       "      <td>T</td>\n",
       "    </tr>\n",
       "    <tr>\n",
       "      <th>d</th>\n",
       "      <td>B</td>\n",
       "      <td>5</td>\n",
       "      <td>1</td>\n",
       "      <td>F</td>\n",
       "    </tr>\n",
       "    <tr>\n",
       "      <th>e</th>\n",
       "      <td>B</td>\n",
       "      <td>1</td>\n",
       "      <td>2</td>\n",
       "      <td>F</td>\n",
       "    </tr>\n",
       "  </tbody>\n",
       "</table>\n",
       "</div>"
      ],
      "text/plain": [
       "  province population year capital\n",
       "a        M          1    1       T\n",
       "b        M          2    1       T\n",
       "c        M          3    2       T\n",
       "d        B          5    1       F\n",
       "e        B          1    2       F"
      ]
     },
     "execution_count": 41,
     "metadata": {},
     "output_type": "execute_result"
    }
   ],
   "source": [
    "#applymap take all cells\n",
    "df.applymap(lambda cell_value : str(cell_value)[0])"
   ]
  },
  {
   "cell_type": "markdown",
   "metadata": {},
   "source": [
    "This is a typical use case for lambdas (anonymous functions)"
   ]
  },
  {
   "cell_type": "code",
   "execution_count": 42,
   "metadata": {},
   "outputs": [
    {
     "data": {
      "text/plain": [
       "province              M\n",
       "population    3000000.0\n",
       "year               2000\n",
       "capital            True\n",
       "dtype: object"
      ]
     },
     "execution_count": 42,
     "metadata": {},
     "output_type": "execute_result"
    }
   ],
   "source": [
    "# apply take only columns\n",
    "df.apply(lambda column: column.max())"
   ]
  },
  {
   "cell_type": "markdown",
   "metadata": {
    "slideshow": {
     "slide_type": "slide"
    }
   },
   "source": [
    "### Sorting and ranking"
   ]
  },
  {
   "cell_type": "code",
   "execution_count": 43,
   "metadata": {},
   "outputs": [
    {
     "data": {
      "text/html": [
       "<div>\n",
       "<style scoped>\n",
       "    .dataframe tbody tr th:only-of-type {\n",
       "        vertical-align: middle;\n",
       "    }\n",
       "\n",
       "    .dataframe tbody tr th {\n",
       "        vertical-align: top;\n",
       "    }\n",
       "\n",
       "    .dataframe thead th {\n",
       "        text-align: right;\n",
       "    }\n",
       "</style>\n",
       "<table border=\"1\" class=\"dataframe\">\n",
       "  <thead>\n",
       "    <tr style=\"text-align: right;\">\n",
       "      <th></th>\n",
       "      <th>province</th>\n",
       "      <th>population</th>\n",
       "      <th>year</th>\n",
       "      <th>capital</th>\n",
       "    </tr>\n",
       "  </thead>\n",
       "  <tbody>\n",
       "    <tr>\n",
       "      <th>a</th>\n",
       "      <td>M</td>\n",
       "      <td>1500000.0</td>\n",
       "      <td>1900</td>\n",
       "      <td>True</td>\n",
       "    </tr>\n",
       "    <tr>\n",
       "      <th>d</th>\n",
       "      <td>B</td>\n",
       "      <td>500000.0</td>\n",
       "      <td>1900</td>\n",
       "      <td>False</td>\n",
       "    </tr>\n",
       "    <tr>\n",
       "      <th>b</th>\n",
       "      <td>M</td>\n",
       "      <td>2000000.0</td>\n",
       "      <td>1950</td>\n",
       "      <td>True</td>\n",
       "    </tr>\n",
       "    <tr>\n",
       "      <th>c</th>\n",
       "      <td>M</td>\n",
       "      <td>3000000.0</td>\n",
       "      <td>2000</td>\n",
       "      <td>True</td>\n",
       "    </tr>\n",
       "    <tr>\n",
       "      <th>e</th>\n",
       "      <td>B</td>\n",
       "      <td>1500000.0</td>\n",
       "      <td>2000</td>\n",
       "      <td>False</td>\n",
       "    </tr>\n",
       "  </tbody>\n",
       "</table>\n",
       "</div>"
      ],
      "text/plain": [
       "  province  population  year  capital\n",
       "a        M   1500000.0  1900     True\n",
       "d        B    500000.0  1900    False\n",
       "b        M   2000000.0  1950     True\n",
       "c        M   3000000.0  2000     True\n",
       "e        B   1500000.0  2000    False"
      ]
     },
     "execution_count": 43,
     "metadata": {},
     "output_type": "execute_result"
    }
   ],
   "source": [
    "#We use inplace = True in case we want change the original df\n",
    "df.sort_values(by='year')"
   ]
  },
  {
   "cell_type": "code",
   "execution_count": null,
   "metadata": {},
   "outputs": [],
   "source": []
  },
  {
   "cell_type": "code",
   "execution_count": 44,
   "metadata": {},
   "outputs": [
    {
     "data": {
      "text/html": [
       "<div>\n",
       "<style scoped>\n",
       "    .dataframe tbody tr th:only-of-type {\n",
       "        vertical-align: middle;\n",
       "    }\n",
       "\n",
       "    .dataframe tbody tr th {\n",
       "        vertical-align: top;\n",
       "    }\n",
       "\n",
       "    .dataframe thead th {\n",
       "        text-align: right;\n",
       "    }\n",
       "</style>\n",
       "<table border=\"1\" class=\"dataframe\">\n",
       "  <thead>\n",
       "    <tr style=\"text-align: right;\">\n",
       "      <th></th>\n",
       "      <th>province</th>\n",
       "      <th>population</th>\n",
       "      <th>year</th>\n",
       "      <th>capital</th>\n",
       "    </tr>\n",
       "  </thead>\n",
       "  <tbody>\n",
       "    <tr>\n",
       "      <th>d</th>\n",
       "      <td>B</td>\n",
       "      <td>500000.0</td>\n",
       "      <td>1900</td>\n",
       "      <td>False</td>\n",
       "    </tr>\n",
       "    <tr>\n",
       "      <th>a</th>\n",
       "      <td>M</td>\n",
       "      <td>1500000.0</td>\n",
       "      <td>1900</td>\n",
       "      <td>True</td>\n",
       "    </tr>\n",
       "    <tr>\n",
       "      <th>b</th>\n",
       "      <td>M</td>\n",
       "      <td>2000000.0</td>\n",
       "      <td>1950</td>\n",
       "      <td>True</td>\n",
       "    </tr>\n",
       "    <tr>\n",
       "      <th>e</th>\n",
       "      <td>B</td>\n",
       "      <td>1500000.0</td>\n",
       "      <td>2000</td>\n",
       "      <td>False</td>\n",
       "    </tr>\n",
       "    <tr>\n",
       "      <th>c</th>\n",
       "      <td>M</td>\n",
       "      <td>3000000.0</td>\n",
       "      <td>2000</td>\n",
       "      <td>True</td>\n",
       "    </tr>\n",
       "  </tbody>\n",
       "</table>\n",
       "</div>"
      ],
      "text/plain": [
       "  province  population  year  capital\n",
       "d        B    500000.0  1900    False\n",
       "a        M   1500000.0  1900     True\n",
       "b        M   2000000.0  1950     True\n",
       "e        B   1500000.0  2000    False\n",
       "c        M   3000000.0  2000     True"
      ]
     },
     "execution_count": 44,
     "metadata": {},
     "output_type": "execute_result"
    }
   ],
   "source": [
    "df.sort_values(by = ['year','province'])"
   ]
  },
  {
   "cell_type": "code",
   "execution_count": 45,
   "metadata": {},
   "outputs": [
    {
     "data": {
      "text/html": [
       "<div>\n",
       "<style scoped>\n",
       "    .dataframe tbody tr th:only-of-type {\n",
       "        vertical-align: middle;\n",
       "    }\n",
       "\n",
       "    .dataframe tbody tr th {\n",
       "        vertical-align: top;\n",
       "    }\n",
       "\n",
       "    .dataframe thead th {\n",
       "        text-align: right;\n",
       "    }\n",
       "</style>\n",
       "<table border=\"1\" class=\"dataframe\">\n",
       "  <thead>\n",
       "    <tr style=\"text-align: right;\">\n",
       "      <th></th>\n",
       "      <th>province</th>\n",
       "      <th>population</th>\n",
       "      <th>year</th>\n",
       "      <th>capital</th>\n",
       "    </tr>\n",
       "  </thead>\n",
       "  <tbody>\n",
       "    <tr>\n",
       "      <th>a</th>\n",
       "      <td>M</td>\n",
       "      <td>1500000.0</td>\n",
       "      <td>1900</td>\n",
       "      <td>True</td>\n",
       "    </tr>\n",
       "    <tr>\n",
       "      <th>b</th>\n",
       "      <td>M</td>\n",
       "      <td>2000000.0</td>\n",
       "      <td>1950</td>\n",
       "      <td>True</td>\n",
       "    </tr>\n",
       "    <tr>\n",
       "      <th>c</th>\n",
       "      <td>M</td>\n",
       "      <td>3000000.0</td>\n",
       "      <td>2000</td>\n",
       "      <td>True</td>\n",
       "    </tr>\n",
       "    <tr>\n",
       "      <th>d</th>\n",
       "      <td>B</td>\n",
       "      <td>500000.0</td>\n",
       "      <td>1900</td>\n",
       "      <td>False</td>\n",
       "    </tr>\n",
       "    <tr>\n",
       "      <th>e</th>\n",
       "      <td>B</td>\n",
       "      <td>1500000.0</td>\n",
       "      <td>2000</td>\n",
       "      <td>False</td>\n",
       "    </tr>\n",
       "  </tbody>\n",
       "</table>\n",
       "</div>"
      ],
      "text/plain": [
       "  province  population  year  capital\n",
       "a        M   1500000.0  1900     True\n",
       "b        M   2000000.0  1950     True\n",
       "c        M   3000000.0  2000     True\n",
       "d        B    500000.0  1900    False\n",
       "e        B   1500000.0  2000    False"
      ]
     },
     "execution_count": 45,
     "metadata": {},
     "output_type": "execute_result"
    }
   ],
   "source": [
    "df.sort_index()"
   ]
  },
  {
   "cell_type": "code",
   "execution_count": 46,
   "metadata": {},
   "outputs": [
    {
     "data": {
      "text/html": [
       "<div>\n",
       "<style scoped>\n",
       "    .dataframe tbody tr th:only-of-type {\n",
       "        vertical-align: middle;\n",
       "    }\n",
       "\n",
       "    .dataframe tbody tr th {\n",
       "        vertical-align: top;\n",
       "    }\n",
       "\n",
       "    .dataframe thead th {\n",
       "        text-align: right;\n",
       "    }\n",
       "</style>\n",
       "<table border=\"1\" class=\"dataframe\">\n",
       "  <thead>\n",
       "    <tr style=\"text-align: right;\">\n",
       "      <th></th>\n",
       "      <th>capital</th>\n",
       "      <th>population</th>\n",
       "      <th>province</th>\n",
       "      <th>year</th>\n",
       "    </tr>\n",
       "  </thead>\n",
       "  <tbody>\n",
       "    <tr>\n",
       "      <th>a</th>\n",
       "      <td>True</td>\n",
       "      <td>1500000.0</td>\n",
       "      <td>M</td>\n",
       "      <td>1900</td>\n",
       "    </tr>\n",
       "    <tr>\n",
       "      <th>b</th>\n",
       "      <td>True</td>\n",
       "      <td>2000000.0</td>\n",
       "      <td>M</td>\n",
       "      <td>1950</td>\n",
       "    </tr>\n",
       "    <tr>\n",
       "      <th>c</th>\n",
       "      <td>True</td>\n",
       "      <td>3000000.0</td>\n",
       "      <td>M</td>\n",
       "      <td>2000</td>\n",
       "    </tr>\n",
       "    <tr>\n",
       "      <th>d</th>\n",
       "      <td>False</td>\n",
       "      <td>500000.0</td>\n",
       "      <td>B</td>\n",
       "      <td>1900</td>\n",
       "    </tr>\n",
       "    <tr>\n",
       "      <th>e</th>\n",
       "      <td>False</td>\n",
       "      <td>1500000.0</td>\n",
       "      <td>B</td>\n",
       "      <td>2000</td>\n",
       "    </tr>\n",
       "  </tbody>\n",
       "</table>\n",
       "</div>"
      ],
      "text/plain": [
       "   capital  population province  year\n",
       "a     True   1500000.0        M  1900\n",
       "b     True   2000000.0        M  1950\n",
       "c     True   3000000.0        M  2000\n",
       "d    False    500000.0        B  1900\n",
       "e    False   1500000.0        B  2000"
      ]
     },
     "execution_count": 46,
     "metadata": {},
     "output_type": "execute_result"
    }
   ],
   "source": [
    "#We use axis =1 in case we want to order using the index of the columns\n",
    "df.sort_index(axis = 1)"
   ]
  },
  {
   "cell_type": "markdown",
   "metadata": {},
   "source": [
    "rank() returns the positions of the elements of the Series in its sorted version. If there are ties, it will take averages."
   ]
  },
  {
   "cell_type": "code",
   "execution_count": 47,
   "metadata": {},
   "outputs": [],
   "source": [
    "standings = pd.Series({'RM': 45, 'VCF': 56,'VIL': 27, 'FCB': 45})"
   ]
  },
  {
   "cell_type": "code",
   "execution_count": 48,
   "metadata": {},
   "outputs": [
    {
     "data": {
      "text/plain": [
       "RM     2.5\n",
       "VCF    4.0\n",
       "VIL    1.0\n",
       "FCB    2.5\n",
       "dtype: float64"
      ]
     },
     "execution_count": 48,
     "metadata": {},
     "output_type": "execute_result"
    }
   ],
   "source": [
    "standings.rank()"
   ]
  },
  {
   "cell_type": "code",
   "execution_count": 49,
   "metadata": {},
   "outputs": [
    {
     "data": {
      "text/plain": [
       "RM     2.0\n",
       "VCF    1.0\n",
       "VIL    3.0\n",
       "FCB    2.0\n",
       "dtype: float64"
      ]
     },
     "execution_count": 49,
     "metadata": {},
     "output_type": "execute_result"
    }
   ],
   "source": [
    "standings.rank(method = 'dense',ascending = False)"
   ]
  },
  {
   "cell_type": "markdown",
   "metadata": {},
   "source": [
    "#### Exercise\n",
    "\n",
    "Write a function that takes a Series and returns the top 20% registers. In this case, earners. Test it with this Series:\n",
    "\n",
    "```python\n",
    "salaries = pd.Series([10000, 43000, 150000, 90000, 120000,30000,10000,5000,40000, 50000, 80000, 35000, 27000,14000, 28000, 22000, 25000])\n",
    "```"
   ]
  },
  {
   "cell_type": "code",
   "execution_count": 50,
   "metadata": {},
   "outputs": [
    {
     "data": {
      "text/plain": [
       "2    150000\n",
       "4    120000\n",
       "3     90000\n",
       "dtype: int64"
      ]
     },
     "execution_count": 50,
     "metadata": {},
     "output_type": "execute_result"
    }
   ],
   "source": [
    "salaries = pd.Series([10000, 43000, 150000, 90000, 120000,30000,10000,5000,40000, 50000, 80000, 35000, 27000,14000, 28000, 22000, 25000])\n",
    "def return_20_percentage(series):\n",
    "    return series.sort_values(ascending= False)[:int(len(series)*0.2)]\n",
    "\n",
    "return_20_percentage(salaries)"
   ]
  },
  {
   "cell_type": "code",
   "execution_count": 51,
   "metadata": {},
   "outputs": [
    {
     "data": {
      "text/plain": [
       "2    150000\n",
       "3     90000\n",
       "4    120000\n",
       "dtype: int64"
      ]
     },
     "execution_count": 51,
     "metadata": {},
     "output_type": "execute_result"
    }
   ],
   "source": [
    "#Another way to do it\n",
    "def top_n_percent(series,pct = .2):\n",
    "    \n",
    "    percentiles = series.rank(pct = True, ascending = False)\n",
    "    \n",
    "    return series[percentiles <  pct]\n",
    "\n",
    "top_n_percent(salaries)\n"
   ]
  },
  {
   "cell_type": "markdown",
   "metadata": {
    "slideshow": {
     "slide_type": "slide"
    }
   },
   "source": [
    "## Summarizing and computing descriptive statistics"
   ]
  },
  {
   "cell_type": "code",
   "execution_count": 52,
   "metadata": {},
   "outputs": [
    {
     "data": {
      "text/plain": [
       "5000"
      ]
     },
     "execution_count": 52,
     "metadata": {},
     "output_type": "execute_result"
    }
   ],
   "source": [
    "salaries.min()"
   ]
  },
  {
   "cell_type": "code",
   "execution_count": 53,
   "metadata": {},
   "outputs": [
    {
     "data": {
      "text/plain": [
       "150000"
      ]
     },
     "execution_count": 53,
     "metadata": {},
     "output_type": "execute_result"
    }
   ],
   "source": [
    "salaries.max()"
   ]
  },
  {
   "cell_type": "code",
   "execution_count": 54,
   "metadata": {},
   "outputs": [
    {
     "data": {
      "text/plain": [
       "count        17.000000\n",
       "mean      45823.529412\n",
       "std       40942.391378\n",
       "min        5000.000000\n",
       "25%       22000.000000\n",
       "50%       30000.000000\n",
       "75%       50000.000000\n",
       "max      150000.000000\n",
       "dtype: float64"
      ]
     },
     "execution_count": 54,
     "metadata": {},
     "output_type": "execute_result"
    }
   ],
   "source": [
    "salaries.describe()"
   ]
  },
  {
   "cell_type": "code",
   "execution_count": 55,
   "metadata": {},
   "outputs": [
    {
     "data": {
      "text/plain": [
       "30000.0"
      ]
     },
     "execution_count": 55,
     "metadata": {},
     "output_type": "execute_result"
    }
   ],
   "source": [
    "salaries.median()"
   ]
  },
  {
   "cell_type": "markdown",
   "metadata": {},
   "source": [
    "As with many methods, we can use them in the direction perpendicular to their default."
   ]
  },
  {
   "cell_type": "code",
   "execution_count": 56,
   "metadata": {},
   "outputs": [
    {
     "data": {
      "text/plain": [
       "a     750950.0\n",
       "b    1000975.0\n",
       "c    1501000.0\n",
       "d     250950.0\n",
       "e     751000.0\n",
       "dtype: float64"
      ]
     },
     "execution_count": 56,
     "metadata": {},
     "output_type": "execute_result"
    }
   ],
   "source": [
    "#Not normally used\n",
    "df[['population','year']].mean(axis =1)"
   ]
  },
  {
   "cell_type": "markdown",
   "metadata": {
    "slideshow": {
     "slide_type": "slide"
    }
   },
   "source": [
    "### Unique values, value counts, and membership"
   ]
  },
  {
   "cell_type": "code",
   "execution_count": 57,
   "metadata": {},
   "outputs": [
    {
     "data": {
      "text/plain": [
       "array(['M', 'B'], dtype=object)"
      ]
     },
     "execution_count": 57,
     "metadata": {},
     "output_type": "execute_result"
    }
   ],
   "source": [
    "df['province'].unique()"
   ]
  },
  {
   "cell_type": "code",
   "execution_count": 58,
   "metadata": {},
   "outputs": [
    {
     "data": {
      "text/plain": [
       "2"
      ]
     },
     "execution_count": 58,
     "metadata": {},
     "output_type": "execute_result"
    }
   ],
   "source": [
    "df['province'].nunique()"
   ]
  },
  {
   "cell_type": "code",
   "execution_count": 59,
   "metadata": {},
   "outputs": [
    {
     "data": {
      "text/plain": [
       "a    False\n",
       "b    False\n",
       "c    False\n",
       "d     True\n",
       "e     True\n",
       "Name: province, dtype: bool"
      ]
     },
     "execution_count": 59,
     "metadata": {},
     "output_type": "execute_result"
    }
   ],
   "source": [
    "df['province'].isin(['B','Gi','Ll','T'])"
   ]
  },
  {
   "cell_type": "code",
   "execution_count": 60,
   "metadata": {},
   "outputs": [
    {
     "data": {
      "text/plain": [
       "province      2\n",
       "population    4\n",
       "year          3\n",
       "capital       2\n",
       "dtype: int64"
      ]
     },
     "execution_count": 60,
     "metadata": {},
     "output_type": "execute_result"
    }
   ],
   "source": [
    "df.nunique()"
   ]
  },
  {
   "cell_type": "markdown",
   "metadata": {},
   "source": [
    "#### Exercise\n",
    "\n",
    "Calculate the %GC of the following DNA sequence:\n",
    "\n",
    "```python\n",
    "dna = pd.Series(list('agtcgggaactttctctcgaggagacccaa'))\n",
    "```"
   ]
  },
  {
   "cell_type": "code",
   "execution_count": 61,
   "metadata": {},
   "outputs": [
    {
     "data": {
      "text/plain": [
       "53.333333333333336"
      ]
     },
     "execution_count": 61,
     "metadata": {},
     "output_type": "execute_result"
    }
   ],
   "source": [
    "dna = pd.Series(list('agtcgggaactttctctcgaggagacccaa'))\n",
    "\n",
    "(dna[(dna == 'g') | (dna == 'c')].count()) *(100/len(dna))"
   ]
  },
  {
   "cell_type": "code",
   "execution_count": 64,
   "metadata": {},
   "outputs": [
    {
     "data": {
      "text/plain": [
       "53.333333333333336"
      ]
     },
     "execution_count": 64,
     "metadata": {},
     "output_type": "execute_result"
    }
   ],
   "source": [
    "dna.isin(['g','c']).mean() *100"
   ]
  },
  {
   "cell_type": "markdown",
   "metadata": {
    "slideshow": {
     "slide_type": "slide"
    }
   },
   "source": [
    "## Handling missing data"
   ]
  },
  {
   "cell_type": "code",
   "execution_count": 67,
   "metadata": {},
   "outputs": [
    {
     "data": {
      "text/plain": [
       "0     Ma\n",
       "1     Va\n",
       "2     Ca\n",
       "3    NaN\n",
       "dtype: object"
      ]
     },
     "execution_count": 67,
     "metadata": {},
     "output_type": "execute_result"
    }
   ],
   "source": [
    "strings = pd.Series( ['Ma','Va','Ca',np.nan])\n",
    "strings"
   ]
  },
  {
   "cell_type": "markdown",
   "metadata": {},
   "source": [
    "This is weird... but it has some really good reasons. You can find explanations [here](https://stackoverflow.com/questions/10034149/why-is-nan-not-equal-to-nan) and [here](https://stackoverflow.com/questions/1565164/what-is-the-rationale-for-all-comparisons-returning-false-for-ieee754-nan-values)"
   ]
  },
  {
   "cell_type": "code",
   "execution_count": 68,
   "metadata": {},
   "outputs": [
    {
     "data": {
      "text/plain": [
       "0     Ma\n",
       "1     Va\n",
       "2     Ca\n",
       "3    NaN\n",
       "dtype: object"
      ]
     },
     "execution_count": 68,
     "metadata": {},
     "output_type": "execute_result"
    }
   ],
   "source": [
    "strings.dropna()\n",
    "strings"
   ]
  },
  {
   "cell_type": "code",
   "execution_count": 73,
   "metadata": {},
   "outputs": [
    {
     "data": {
      "text/plain": [
       "False"
      ]
     },
     "execution_count": 73,
     "metadata": {},
     "output_type": "execute_result"
    }
   ],
   "source": [
    "np.nan == np.nan"
   ]
  },
  {
   "cell_type": "code",
   "execution_count": 74,
   "metadata": {},
   "outputs": [
    {
     "data": {
      "text/plain": [
       "0    Ma\n",
       "1    Va\n",
       "2    Ca\n",
       "3    Po\n",
       "dtype: object"
      ]
     },
     "execution_count": 74,
     "metadata": {},
     "output_type": "execute_result"
    }
   ],
   "source": [
    "strings.fillna('Po')"
   ]
  },
  {
   "cell_type": "code",
   "execution_count": 76,
   "metadata": {},
   "outputs": [
    {
     "data": {
      "text/html": [
       "<div>\n",
       "<style scoped>\n",
       "    .dataframe tbody tr th:only-of-type {\n",
       "        vertical-align: middle;\n",
       "    }\n",
       "\n",
       "    .dataframe tbody tr th {\n",
       "        vertical-align: top;\n",
       "    }\n",
       "\n",
       "    .dataframe thead th {\n",
       "        text-align: right;\n",
       "    }\n",
       "</style>\n",
       "<table border=\"1\" class=\"dataframe\">\n",
       "  <thead>\n",
       "    <tr style=\"text-align: right;\">\n",
       "      <th></th>\n",
       "      <th>X</th>\n",
       "      <th>Y</th>\n",
       "      <th>Z</th>\n",
       "    </tr>\n",
       "  </thead>\n",
       "  <tbody>\n",
       "    <tr>\n",
       "      <th>0</th>\n",
       "      <td>1.0</td>\n",
       "      <td>6.0</td>\n",
       "      <td>10.0</td>\n",
       "    </tr>\n",
       "    <tr>\n",
       "      <th>1</th>\n",
       "      <td>2.0</td>\n",
       "      <td>NaN</td>\n",
       "      <td>11.0</td>\n",
       "    </tr>\n",
       "    <tr>\n",
       "      <th>2</th>\n",
       "      <td>3.0</td>\n",
       "      <td>7.0</td>\n",
       "      <td>12.0</td>\n",
       "    </tr>\n",
       "    <tr>\n",
       "      <th>3</th>\n",
       "      <td>4.0</td>\n",
       "      <td>NaN</td>\n",
       "      <td>NaN</td>\n",
       "    </tr>\n",
       "    <tr>\n",
       "      <th>4</th>\n",
       "      <td>NaN</td>\n",
       "      <td>NaN</td>\n",
       "      <td>NaN</td>\n",
       "    </tr>\n",
       "    <tr>\n",
       "      <th>5</th>\n",
       "      <td>NaN</td>\n",
       "      <td>9.0</td>\n",
       "      <td>13.0</td>\n",
       "    </tr>\n",
       "  </tbody>\n",
       "</table>\n",
       "</div>"
      ],
      "text/plain": [
       "     X    Y     Z\n",
       "0  1.0  6.0  10.0\n",
       "1  2.0  NaN  11.0\n",
       "2  3.0  7.0  12.0\n",
       "3  4.0  NaN   NaN\n",
       "4  NaN  NaN   NaN\n",
       "5  NaN  9.0  13.0"
      ]
     },
     "execution_count": 76,
     "metadata": {},
     "output_type": "execute_result"
    }
   ],
   "source": [
    "data = {'X': [1,2,3,4,np.nan,np.nan],\n",
    "       'Y': [6,np.nan,7,np.nan,np.nan,9],\n",
    "        'Z' : [10,11,12,np.nan,np.nan,13]}\n",
    "\n",
    "df2 = pd.DataFrame(data)\n",
    "df2"
   ]
  },
  {
   "cell_type": "code",
   "execution_count": 78,
   "metadata": {},
   "outputs": [
    {
     "data": {
      "text/html": [
       "<div>\n",
       "<style scoped>\n",
       "    .dataframe tbody tr th:only-of-type {\n",
       "        vertical-align: middle;\n",
       "    }\n",
       "\n",
       "    .dataframe tbody tr th {\n",
       "        vertical-align: top;\n",
       "    }\n",
       "\n",
       "    .dataframe thead th {\n",
       "        text-align: right;\n",
       "    }\n",
       "</style>\n",
       "<table border=\"1\" class=\"dataframe\">\n",
       "  <thead>\n",
       "    <tr style=\"text-align: right;\">\n",
       "      <th></th>\n",
       "      <th>X</th>\n",
       "      <th>Y</th>\n",
       "      <th>Z</th>\n",
       "    </tr>\n",
       "  </thead>\n",
       "  <tbody>\n",
       "    <tr>\n",
       "      <th>0</th>\n",
       "      <td>1.0</td>\n",
       "      <td>6.0</td>\n",
       "      <td>10.0</td>\n",
       "    </tr>\n",
       "    <tr>\n",
       "      <th>1</th>\n",
       "      <td>2.0</td>\n",
       "      <td>666.0</td>\n",
       "      <td>11.0</td>\n",
       "    </tr>\n",
       "    <tr>\n",
       "      <th>2</th>\n",
       "      <td>3.0</td>\n",
       "      <td>7.0</td>\n",
       "      <td>12.0</td>\n",
       "    </tr>\n",
       "    <tr>\n",
       "      <th>3</th>\n",
       "      <td>4.0</td>\n",
       "      <td>666.0</td>\n",
       "      <td>NaN</td>\n",
       "    </tr>\n",
       "    <tr>\n",
       "      <th>4</th>\n",
       "      <td>999.0</td>\n",
       "      <td>666.0</td>\n",
       "      <td>NaN</td>\n",
       "    </tr>\n",
       "    <tr>\n",
       "      <th>5</th>\n",
       "      <td>999.0</td>\n",
       "      <td>9.0</td>\n",
       "      <td>13.0</td>\n",
       "    </tr>\n",
       "  </tbody>\n",
       "</table>\n",
       "</div>"
      ],
      "text/plain": [
       "       X      Y     Z\n",
       "0    1.0    6.0  10.0\n",
       "1    2.0  666.0  11.0\n",
       "2    3.0    7.0  12.0\n",
       "3    4.0  666.0   NaN\n",
       "4  999.0  666.0   NaN\n",
       "5  999.0    9.0  13.0"
      ]
     },
     "execution_count": 78,
     "metadata": {},
     "output_type": "execute_result"
    }
   ],
   "source": [
    "df2.fillna({'X': 999, 'Y' : 666})"
   ]
  },
  {
   "cell_type": "code",
   "execution_count": 79,
   "metadata": {},
   "outputs": [
    {
     "data": {
      "text/plain": [
       "X     2.5\n",
       "Y     7.0\n",
       "Z    11.5\n",
       "dtype: float64"
      ]
     },
     "execution_count": 79,
     "metadata": {},
     "output_type": "execute_result"
    }
   ],
   "source": [
    "df2.median()"
   ]
  },
  {
   "cell_type": "code",
   "execution_count": 81,
   "metadata": {},
   "outputs": [
    {
     "data": {
      "text/html": [
       "<div>\n",
       "<style scoped>\n",
       "    .dataframe tbody tr th:only-of-type {\n",
       "        vertical-align: middle;\n",
       "    }\n",
       "\n",
       "    .dataframe tbody tr th {\n",
       "        vertical-align: top;\n",
       "    }\n",
       "\n",
       "    .dataframe thead th {\n",
       "        text-align: right;\n",
       "    }\n",
       "</style>\n",
       "<table border=\"1\" class=\"dataframe\">\n",
       "  <thead>\n",
       "    <tr style=\"text-align: right;\">\n",
       "      <th></th>\n",
       "      <th>X</th>\n",
       "      <th>Y</th>\n",
       "      <th>Z</th>\n",
       "    </tr>\n",
       "  </thead>\n",
       "  <tbody>\n",
       "    <tr>\n",
       "      <th>0</th>\n",
       "      <td>1.0</td>\n",
       "      <td>6.0</td>\n",
       "      <td>10.0</td>\n",
       "    </tr>\n",
       "    <tr>\n",
       "      <th>1</th>\n",
       "      <td>2.0</td>\n",
       "      <td>7.0</td>\n",
       "      <td>11.0</td>\n",
       "    </tr>\n",
       "    <tr>\n",
       "      <th>2</th>\n",
       "      <td>3.0</td>\n",
       "      <td>7.0</td>\n",
       "      <td>12.0</td>\n",
       "    </tr>\n",
       "    <tr>\n",
       "      <th>3</th>\n",
       "      <td>4.0</td>\n",
       "      <td>7.0</td>\n",
       "      <td>11.5</td>\n",
       "    </tr>\n",
       "    <tr>\n",
       "      <th>4</th>\n",
       "      <td>2.5</td>\n",
       "      <td>7.0</td>\n",
       "      <td>11.5</td>\n",
       "    </tr>\n",
       "    <tr>\n",
       "      <th>5</th>\n",
       "      <td>2.5</td>\n",
       "      <td>9.0</td>\n",
       "      <td>13.0</td>\n",
       "    </tr>\n",
       "  </tbody>\n",
       "</table>\n",
       "</div>"
      ],
      "text/plain": [
       "     X    Y     Z\n",
       "0  1.0  6.0  10.0\n",
       "1  2.0  7.0  11.0\n",
       "2  3.0  7.0  12.0\n",
       "3  4.0  7.0  11.5\n",
       "4  2.5  7.0  11.5\n",
       "5  2.5  9.0  13.0"
      ]
     },
     "execution_count": 81,
     "metadata": {},
     "output_type": "execute_result"
    }
   ],
   "source": [
    "df2.fillna(df2.median())"
   ]
  },
  {
   "cell_type": "code",
   "execution_count": 82,
   "metadata": {},
   "outputs": [
    {
     "data": {
      "text/html": [
       "<div>\n",
       "<style scoped>\n",
       "    .dataframe tbody tr th:only-of-type {\n",
       "        vertical-align: middle;\n",
       "    }\n",
       "\n",
       "    .dataframe tbody tr th {\n",
       "        vertical-align: top;\n",
       "    }\n",
       "\n",
       "    .dataframe thead th {\n",
       "        text-align: right;\n",
       "    }\n",
       "</style>\n",
       "<table border=\"1\" class=\"dataframe\">\n",
       "  <thead>\n",
       "    <tr style=\"text-align: right;\">\n",
       "      <th></th>\n",
       "      <th>X</th>\n",
       "      <th>Y</th>\n",
       "      <th>Z</th>\n",
       "    </tr>\n",
       "  </thead>\n",
       "  <tbody>\n",
       "    <tr>\n",
       "      <th>0</th>\n",
       "      <td>1.0</td>\n",
       "      <td>6.0</td>\n",
       "      <td>10.0</td>\n",
       "    </tr>\n",
       "    <tr>\n",
       "      <th>2</th>\n",
       "      <td>3.0</td>\n",
       "      <td>7.0</td>\n",
       "      <td>12.0</td>\n",
       "    </tr>\n",
       "  </tbody>\n",
       "</table>\n",
       "</div>"
      ],
      "text/plain": [
       "     X    Y     Z\n",
       "0  1.0  6.0  10.0\n",
       "2  3.0  7.0  12.0"
      ]
     },
     "execution_count": 82,
     "metadata": {},
     "output_type": "execute_result"
    }
   ],
   "source": [
    "df2.dropna()"
   ]
  },
  {
   "cell_type": "code",
   "execution_count": 83,
   "metadata": {},
   "outputs": [
    {
     "data": {
      "text/html": [
       "<div>\n",
       "<style scoped>\n",
       "    .dataframe tbody tr th:only-of-type {\n",
       "        vertical-align: middle;\n",
       "    }\n",
       "\n",
       "    .dataframe tbody tr th {\n",
       "        vertical-align: top;\n",
       "    }\n",
       "\n",
       "    .dataframe thead th {\n",
       "        text-align: right;\n",
       "    }\n",
       "</style>\n",
       "<table border=\"1\" class=\"dataframe\">\n",
       "  <thead>\n",
       "    <tr style=\"text-align: right;\">\n",
       "      <th></th>\n",
       "      <th>X</th>\n",
       "      <th>Y</th>\n",
       "      <th>Z</th>\n",
       "    </tr>\n",
       "  </thead>\n",
       "  <tbody>\n",
       "    <tr>\n",
       "      <th>0</th>\n",
       "      <td>1.0</td>\n",
       "      <td>6.0</td>\n",
       "      <td>10.0</td>\n",
       "    </tr>\n",
       "    <tr>\n",
       "      <th>1</th>\n",
       "      <td>2.0</td>\n",
       "      <td>NaN</td>\n",
       "      <td>11.0</td>\n",
       "    </tr>\n",
       "    <tr>\n",
       "      <th>2</th>\n",
       "      <td>3.0</td>\n",
       "      <td>7.0</td>\n",
       "      <td>12.0</td>\n",
       "    </tr>\n",
       "    <tr>\n",
       "      <th>3</th>\n",
       "      <td>4.0</td>\n",
       "      <td>NaN</td>\n",
       "      <td>NaN</td>\n",
       "    </tr>\n",
       "    <tr>\n",
       "      <th>5</th>\n",
       "      <td>NaN</td>\n",
       "      <td>9.0</td>\n",
       "      <td>13.0</td>\n",
       "    </tr>\n",
       "  </tbody>\n",
       "</table>\n",
       "</div>"
      ],
      "text/plain": [
       "     X    Y     Z\n",
       "0  1.0  6.0  10.0\n",
       "1  2.0  NaN  11.0\n",
       "2  3.0  7.0  12.0\n",
       "3  4.0  NaN   NaN\n",
       "5  NaN  9.0  13.0"
      ]
     },
     "execution_count": 83,
     "metadata": {},
     "output_type": "execute_result"
    }
   ],
   "source": [
    "df2.dropna(how = 'all')"
   ]
  },
  {
   "cell_type": "code",
   "execution_count": 85,
   "metadata": {
    "scrolled": true
   },
   "outputs": [
    {
     "data": {
      "text/html": [
       "<div>\n",
       "<style scoped>\n",
       "    .dataframe tbody tr th:only-of-type {\n",
       "        vertical-align: middle;\n",
       "    }\n",
       "\n",
       "    .dataframe tbody tr th {\n",
       "        vertical-align: top;\n",
       "    }\n",
       "\n",
       "    .dataframe thead th {\n",
       "        text-align: right;\n",
       "    }\n",
       "</style>\n",
       "<table border=\"1\" class=\"dataframe\">\n",
       "  <thead>\n",
       "    <tr style=\"text-align: right;\">\n",
       "      <th></th>\n",
       "      <th>X</th>\n",
       "      <th>Y</th>\n",
       "      <th>Z</th>\n",
       "    </tr>\n",
       "  </thead>\n",
       "  <tbody>\n",
       "    <tr>\n",
       "      <th>0</th>\n",
       "      <td>1.0</td>\n",
       "      <td>6.0</td>\n",
       "      <td>10.0</td>\n",
       "    </tr>\n",
       "    <tr>\n",
       "      <th>1</th>\n",
       "      <td>2.0</td>\n",
       "      <td>NaN</td>\n",
       "      <td>11.0</td>\n",
       "    </tr>\n",
       "    <tr>\n",
       "      <th>2</th>\n",
       "      <td>3.0</td>\n",
       "      <td>7.0</td>\n",
       "      <td>12.0</td>\n",
       "    </tr>\n",
       "    <tr>\n",
       "      <th>5</th>\n",
       "      <td>NaN</td>\n",
       "      <td>9.0</td>\n",
       "      <td>13.0</td>\n",
       "    </tr>\n",
       "  </tbody>\n",
       "</table>\n",
       "</div>"
      ],
      "text/plain": [
       "     X    Y     Z\n",
       "0  1.0  6.0  10.0\n",
       "1  2.0  NaN  11.0\n",
       "2  3.0  7.0  12.0\n",
       "5  NaN  9.0  13.0"
      ]
     },
     "execution_count": 85,
     "metadata": {},
     "output_type": "execute_result"
    }
   ],
   "source": [
    "df2.dropna(thresh = 2)"
   ]
  },
  {
   "cell_type": "code",
   "execution_count": 86,
   "metadata": {},
   "outputs": [
    {
     "data": {
      "text/html": [
       "<div>\n",
       "<style scoped>\n",
       "    .dataframe tbody tr th:only-of-type {\n",
       "        vertical-align: middle;\n",
       "    }\n",
       "\n",
       "    .dataframe tbody tr th {\n",
       "        vertical-align: top;\n",
       "    }\n",
       "\n",
       "    .dataframe thead th {\n",
       "        text-align: right;\n",
       "    }\n",
       "</style>\n",
       "<table border=\"1\" class=\"dataframe\">\n",
       "  <thead>\n",
       "    <tr style=\"text-align: right;\">\n",
       "      <th></th>\n",
       "      <th>X</th>\n",
       "      <th>Y</th>\n",
       "      <th>Z</th>\n",
       "    </tr>\n",
       "  </thead>\n",
       "  <tbody>\n",
       "    <tr>\n",
       "      <th>0</th>\n",
       "      <td>1.0</td>\n",
       "      <td>6.0</td>\n",
       "      <td>10.0</td>\n",
       "    </tr>\n",
       "    <tr>\n",
       "      <th>2</th>\n",
       "      <td>3.0</td>\n",
       "      <td>7.0</td>\n",
       "      <td>12.0</td>\n",
       "    </tr>\n",
       "  </tbody>\n",
       "</table>\n",
       "</div>"
      ],
      "text/plain": [
       "     X    Y     Z\n",
       "0  1.0  6.0  10.0\n",
       "2  3.0  7.0  12.0"
      ]
     },
     "execution_count": 86,
     "metadata": {},
     "output_type": "execute_result"
    }
   ],
   "source": [
    "df2.dropna(subset=['X','Y'])"
   ]
  },
  {
   "cell_type": "markdown",
   "metadata": {
    "slideshow": {
     "slide_type": "slide"
    }
   },
   "source": [
    "\n",
    "\n",
    "\n",
    "\n",
    "\n",
    "\n",
    "### Filtering out missing data"
   ]
  },
  {
   "cell_type": "code",
   "execution_count": null,
   "metadata": {},
   "outputs": [],
   "source": []
  },
  {
   "cell_type": "markdown",
   "metadata": {},
   "source": [
    "any() and all() are functions of boolean Series. They reduce the Series to a single boolean value by applying repeatedly the operators \"or\" and \"and\", respectively."
   ]
  },
  {
   "cell_type": "code",
   "execution_count": 91,
   "metadata": {},
   "outputs": [
    {
     "data": {
      "text/html": [
       "<div>\n",
       "<style scoped>\n",
       "    .dataframe tbody tr th:only-of-type {\n",
       "        vertical-align: middle;\n",
       "    }\n",
       "\n",
       "    .dataframe tbody tr th {\n",
       "        vertical-align: top;\n",
       "    }\n",
       "\n",
       "    .dataframe thead th {\n",
       "        text-align: right;\n",
       "    }\n",
       "</style>\n",
       "<table border=\"1\" class=\"dataframe\">\n",
       "  <thead>\n",
       "    <tr style=\"text-align: right;\">\n",
       "      <th></th>\n",
       "      <th>X</th>\n",
       "      <th>Y</th>\n",
       "      <th>Z</th>\n",
       "    </tr>\n",
       "  </thead>\n",
       "  <tbody>\n",
       "    <tr>\n",
       "      <th>0</th>\n",
       "      <td>1.0</td>\n",
       "      <td>6.0</td>\n",
       "      <td>10.0</td>\n",
       "    </tr>\n",
       "    <tr>\n",
       "      <th>1</th>\n",
       "      <td>2.0</td>\n",
       "      <td>NaN</td>\n",
       "      <td>11.0</td>\n",
       "    </tr>\n",
       "    <tr>\n",
       "      <th>2</th>\n",
       "      <td>3.0</td>\n",
       "      <td>7.0</td>\n",
       "      <td>12.0</td>\n",
       "    </tr>\n",
       "    <tr>\n",
       "      <th>5</th>\n",
       "      <td>NaN</td>\n",
       "      <td>9.0</td>\n",
       "      <td>13.0</td>\n",
       "    </tr>\n",
       "  </tbody>\n",
       "</table>\n",
       "</div>"
      ],
      "text/plain": [
       "     X    Y     Z\n",
       "0  1.0  6.0  10.0\n",
       "1  2.0  NaN  11.0\n",
       "2  3.0  7.0  12.0\n",
       "5  NaN  9.0  13.0"
      ]
     },
     "execution_count": 91,
     "metadata": {},
     "output_type": "execute_result"
    }
   ],
   "source": [
    "df2.dropna(subset=['Y','Z'],how= 'all')"
   ]
  },
  {
   "cell_type": "markdown",
   "metadata": {},
   "source": [
    "The thresh argument specifies the minimum number of non-null values required to keep a column (or row, with axis=1)"
   ]
  },
  {
   "cell_type": "code",
   "execution_count": 90,
   "metadata": {},
   "outputs": [
    {
     "data": {
      "text/html": [
       "<div>\n",
       "<style scoped>\n",
       "    .dataframe tbody tr th:only-of-type {\n",
       "        vertical-align: middle;\n",
       "    }\n",
       "\n",
       "    .dataframe tbody tr th {\n",
       "        vertical-align: top;\n",
       "    }\n",
       "\n",
       "    .dataframe thead th {\n",
       "        text-align: right;\n",
       "    }\n",
       "</style>\n",
       "<table border=\"1\" class=\"dataframe\">\n",
       "  <thead>\n",
       "    <tr style=\"text-align: right;\">\n",
       "      <th></th>\n",
       "      <th>X</th>\n",
       "      <th>Y</th>\n",
       "      <th>Z</th>\n",
       "    </tr>\n",
       "  </thead>\n",
       "  <tbody>\n",
       "    <tr>\n",
       "      <th>0</th>\n",
       "      <td>1.0</td>\n",
       "      <td>6.0</td>\n",
       "      <td>10.0</td>\n",
       "    </tr>\n",
       "    <tr>\n",
       "      <th>1</th>\n",
       "      <td>2.0</td>\n",
       "      <td>NaN</td>\n",
       "      <td>11.0</td>\n",
       "    </tr>\n",
       "    <tr>\n",
       "      <th>2</th>\n",
       "      <td>3.0</td>\n",
       "      <td>7.0</td>\n",
       "      <td>12.0</td>\n",
       "    </tr>\n",
       "    <tr>\n",
       "      <th>3</th>\n",
       "      <td>4.0</td>\n",
       "      <td>NaN</td>\n",
       "      <td>NaN</td>\n",
       "    </tr>\n",
       "    <tr>\n",
       "      <th>4</th>\n",
       "      <td>NaN</td>\n",
       "      <td>NaN</td>\n",
       "      <td>NaN</td>\n",
       "    </tr>\n",
       "    <tr>\n",
       "      <th>5</th>\n",
       "      <td>NaN</td>\n",
       "      <td>9.0</td>\n",
       "      <td>13.0</td>\n",
       "    </tr>\n",
       "  </tbody>\n",
       "</table>\n",
       "</div>"
      ],
      "text/plain": [
       "     X    Y     Z\n",
       "0  1.0  6.0  10.0\n",
       "1  2.0  NaN  11.0\n",
       "2  3.0  7.0  12.0\n",
       "3  4.0  NaN   NaN\n",
       "4  NaN  NaN   NaN\n",
       "5  NaN  9.0  13.0"
      ]
     },
     "execution_count": 90,
     "metadata": {},
     "output_type": "execute_result"
    }
   ],
   "source": [
    "df2.dropna(axis=1, thresh = 1)"
   ]
  },
  {
   "cell_type": "markdown",
   "metadata": {
    "slideshow": {
     "slide_type": "slide"
    }
   },
   "source": [
    "### Filling in missing data"
   ]
  },
  {
   "cell_type": "code",
   "execution_count": 93,
   "metadata": {},
   "outputs": [
    {
     "data": {
      "text/html": [
       "<div>\n",
       "<style scoped>\n",
       "    .dataframe tbody tr th:only-of-type {\n",
       "        vertical-align: middle;\n",
       "    }\n",
       "\n",
       "    .dataframe tbody tr th {\n",
       "        vertical-align: top;\n",
       "    }\n",
       "\n",
       "    .dataframe thead th {\n",
       "        text-align: right;\n",
       "    }\n",
       "</style>\n",
       "<table border=\"1\" class=\"dataframe\">\n",
       "  <thead>\n",
       "    <tr style=\"text-align: right;\">\n",
       "      <th></th>\n",
       "      <th>X</th>\n",
       "      <th>Y</th>\n",
       "      <th>Z</th>\n",
       "    </tr>\n",
       "  </thead>\n",
       "  <tbody>\n",
       "    <tr>\n",
       "      <th>0</th>\n",
       "      <td>1.0</td>\n",
       "      <td>6.0</td>\n",
       "      <td>10.0</td>\n",
       "    </tr>\n",
       "    <tr>\n",
       "      <th>1</th>\n",
       "      <td>2.0</td>\n",
       "      <td>6.0</td>\n",
       "      <td>11.0</td>\n",
       "    </tr>\n",
       "    <tr>\n",
       "      <th>2</th>\n",
       "      <td>3.0</td>\n",
       "      <td>7.0</td>\n",
       "      <td>12.0</td>\n",
       "    </tr>\n",
       "    <tr>\n",
       "      <th>3</th>\n",
       "      <td>4.0</td>\n",
       "      <td>7.0</td>\n",
       "      <td>12.0</td>\n",
       "    </tr>\n",
       "    <tr>\n",
       "      <th>4</th>\n",
       "      <td>4.0</td>\n",
       "      <td>7.0</td>\n",
       "      <td>12.0</td>\n",
       "    </tr>\n",
       "    <tr>\n",
       "      <th>5</th>\n",
       "      <td>4.0</td>\n",
       "      <td>9.0</td>\n",
       "      <td>13.0</td>\n",
       "    </tr>\n",
       "  </tbody>\n",
       "</table>\n",
       "</div>"
      ],
      "text/plain": [
       "     X    Y     Z\n",
       "0  1.0  6.0  10.0\n",
       "1  2.0  6.0  11.0\n",
       "2  3.0  7.0  12.0\n",
       "3  4.0  7.0  12.0\n",
       "4  4.0  7.0  12.0\n",
       "5  4.0  9.0  13.0"
      ]
     },
     "execution_count": 93,
     "metadata": {},
     "output_type": "execute_result"
    }
   ],
   "source": [
    "df2.ffill()"
   ]
  },
  {
   "cell_type": "code",
   "execution_count": 95,
   "metadata": {},
   "outputs": [
    {
     "data": {
      "text/html": [
       "<div>\n",
       "<style scoped>\n",
       "    .dataframe tbody tr th:only-of-type {\n",
       "        vertical-align: middle;\n",
       "    }\n",
       "\n",
       "    .dataframe tbody tr th {\n",
       "        vertical-align: top;\n",
       "    }\n",
       "\n",
       "    .dataframe thead th {\n",
       "        text-align: right;\n",
       "    }\n",
       "</style>\n",
       "<table border=\"1\" class=\"dataframe\">\n",
       "  <thead>\n",
       "    <tr style=\"text-align: right;\">\n",
       "      <th></th>\n",
       "      <th>X</th>\n",
       "      <th>Y</th>\n",
       "      <th>Z</th>\n",
       "    </tr>\n",
       "  </thead>\n",
       "  <tbody>\n",
       "    <tr>\n",
       "      <th>0</th>\n",
       "      <td>1.0</td>\n",
       "      <td>6.0</td>\n",
       "      <td>10.0</td>\n",
       "    </tr>\n",
       "    <tr>\n",
       "      <th>1</th>\n",
       "      <td>2.0</td>\n",
       "      <td>7.0</td>\n",
       "      <td>11.0</td>\n",
       "    </tr>\n",
       "    <tr>\n",
       "      <th>2</th>\n",
       "      <td>3.0</td>\n",
       "      <td>7.0</td>\n",
       "      <td>12.0</td>\n",
       "    </tr>\n",
       "    <tr>\n",
       "      <th>3</th>\n",
       "      <td>4.0</td>\n",
       "      <td>9.0</td>\n",
       "      <td>13.0</td>\n",
       "    </tr>\n",
       "    <tr>\n",
       "      <th>4</th>\n",
       "      <td>NaN</td>\n",
       "      <td>9.0</td>\n",
       "      <td>13.0</td>\n",
       "    </tr>\n",
       "    <tr>\n",
       "      <th>5</th>\n",
       "      <td>NaN</td>\n",
       "      <td>9.0</td>\n",
       "      <td>13.0</td>\n",
       "    </tr>\n",
       "  </tbody>\n",
       "</table>\n",
       "</div>"
      ],
      "text/plain": [
       "     X    Y     Z\n",
       "0  1.0  6.0  10.0\n",
       "1  2.0  7.0  11.0\n",
       "2  3.0  7.0  12.0\n",
       "3  4.0  9.0  13.0\n",
       "4  NaN  9.0  13.0\n",
       "5  NaN  9.0  13.0"
      ]
     },
     "execution_count": 95,
     "metadata": {},
     "output_type": "execute_result"
    }
   ],
   "source": [
    "df2.bfill()"
   ]
  },
  {
   "cell_type": "code",
   "execution_count": null,
   "metadata": {},
   "outputs": [],
   "source": []
  },
  {
   "cell_type": "markdown",
   "metadata": {
    "collapsed": true,
    "slideshow": {
     "slide_type": "slide"
    }
   },
   "source": [
    "   "
   ]
  },
  {
   "cell_type": "markdown",
   "metadata": {},
   "source": [
    "# Loading and saving data"
   ]
  },
  {
   "cell_type": "markdown",
   "metadata": {
    "collapsed": true
   },
   "source": [
    "## Loading CSV"
   ]
  },
  {
   "cell_type": "code",
   "execution_count": 96,
   "metadata": {
    "scrolled": false
   },
   "outputs": [
    {
     "name": "stdout",
     "output_type": "stream",
     "text": [
      "Archive:  /home/dsc/data/us_dot/traffic/T100_SEGMENT_ALL_CARRIER_2014.zip\n",
      "  inflating: 914310910_T_T100_SEGMENT_ALL_CARRIER_2014_All.csv  \n",
      "  inflating: 914310910_T_T100_SEGMENT_ALL_CARRIER_ReadMe.csv  \n",
      "  inflating: 914310910_T_T100_SEGMENT_ALL_CARRIER_Terms.csv  \n"
     ]
    }
   ],
   "source": [
    "!unzip /home/dsc/data/us_dot/traffic/T100_SEGMENT_ALL_CARRIER_2014.zip"
   ]
  },
  {
   "cell_type": "code",
   "execution_count": 97,
   "metadata": {},
   "outputs": [
    {
     "data": {
      "text/html": [
       "<div>\n",
       "<style scoped>\n",
       "    .dataframe tbody tr th:only-of-type {\n",
       "        vertical-align: middle;\n",
       "    }\n",
       "\n",
       "    .dataframe tbody tr th {\n",
       "        vertical-align: top;\n",
       "    }\n",
       "\n",
       "    .dataframe thead th {\n",
       "        text-align: right;\n",
       "    }\n",
       "</style>\n",
       "<table border=\"1\" class=\"dataframe\">\n",
       "  <thead>\n",
       "    <tr style=\"text-align: right;\">\n",
       "      <th></th>\n",
       "      <th>DEPARTURES_SCHEDULED</th>\n",
       "      <th>DEPARTURES_PERFORMED</th>\n",
       "      <th>PAYLOAD</th>\n",
       "      <th>SEATS</th>\n",
       "      <th>PASSENGERS</th>\n",
       "      <th>FREIGHT</th>\n",
       "      <th>MAIL</th>\n",
       "      <th>DISTANCE</th>\n",
       "      <th>RAMP_TO_RAMP</th>\n",
       "      <th>AIR_TIME</th>\n",
       "      <th>UNIQUE_CARRIER</th>\n",
       "      <th>AIRLINE_ID</th>\n",
       "      <th>UNIQUE_CARRIER_NAME</th>\n",
       "      <th>UNIQUE_CARRIER_ENTITY</th>\n",
       "      <th>REGION</th>\n",
       "      <th>CARRIER</th>\n",
       "      <th>CARRIER_NAME</th>\n",
       "      <th>CARRIER_GROUP</th>\n",
       "      <th>CARRIER_GROUP_NEW</th>\n",
       "      <th>ORIGIN_AIRPORT_ID</th>\n",
       "      <th>ORIGIN_AIRPORT_SEQ_ID</th>\n",
       "      <th>ORIGIN_CITY_MARKET_ID</th>\n",
       "      <th>ORIGIN</th>\n",
       "      <th>ORIGIN_CITY_NAME</th>\n",
       "      <th>ORIGIN_STATE_ABR</th>\n",
       "      <th>ORIGIN_STATE_FIPS</th>\n",
       "      <th>ORIGIN_STATE_NM</th>\n",
       "      <th>ORIGIN_COUNTRY</th>\n",
       "      <th>ORIGIN_COUNTRY_NAME</th>\n",
       "      <th>ORIGIN_WAC</th>\n",
       "      <th>DEST_AIRPORT_ID</th>\n",
       "      <th>DEST_AIRPORT_SEQ_ID</th>\n",
       "      <th>DEST_CITY_MARKET_ID</th>\n",
       "      <th>DEST</th>\n",
       "      <th>DEST_CITY_NAME</th>\n",
       "      <th>DEST_STATE_ABR</th>\n",
       "      <th>DEST_STATE_FIPS</th>\n",
       "      <th>DEST_STATE_NM</th>\n",
       "      <th>DEST_COUNTRY</th>\n",
       "      <th>DEST_COUNTRY_NAME</th>\n",
       "      <th>DEST_WAC</th>\n",
       "      <th>AIRCRAFT_GROUP</th>\n",
       "      <th>AIRCRAFT_TYPE</th>\n",
       "      <th>AIRCRAFT_CONFIG</th>\n",
       "      <th>YEAR</th>\n",
       "      <th>QUARTER</th>\n",
       "      <th>MONTH</th>\n",
       "      <th>DISTANCE_GROUP</th>\n",
       "      <th>CLASS</th>\n",
       "      <th>DATA_SOURCE</th>\n",
       "      <th>Unnamed: 50</th>\n",
       "    </tr>\n",
       "  </thead>\n",
       "  <tbody>\n",
       "    <tr>\n",
       "      <th>0</th>\n",
       "      <td>0.0</td>\n",
       "      <td>1.0</td>\n",
       "      <td>43400.0</td>\n",
       "      <td>175.0</td>\n",
       "      <td>158.0</td>\n",
       "      <td>748.0</td>\n",
       "      <td>0.0</td>\n",
       "      <td>1660.0</td>\n",
       "      <td>263.0</td>\n",
       "      <td>243.0</td>\n",
       "      <td>WN</td>\n",
       "      <td>19393</td>\n",
       "      <td>Southwest Airlines Co.</td>\n",
       "      <td>06725</td>\n",
       "      <td>D</td>\n",
       "      <td>WN</td>\n",
       "      <td>Southwest Airlines Co.</td>\n",
       "      <td>3</td>\n",
       "      <td>3</td>\n",
       "      <td>14869</td>\n",
       "      <td>1486903</td>\n",
       "      <td>34614</td>\n",
       "      <td>SLC</td>\n",
       "      <td>Salt Lake City, UT</td>\n",
       "      <td>UT</td>\n",
       "      <td>49.0</td>\n",
       "      <td>Utah</td>\n",
       "      <td>US</td>\n",
       "      <td>United States</td>\n",
       "      <td>87</td>\n",
       "      <td>14122</td>\n",
       "      <td>1412202</td>\n",
       "      <td>30198</td>\n",
       "      <td>PIT</td>\n",
       "      <td>Pittsburgh, PA</td>\n",
       "      <td>PA</td>\n",
       "      <td>42.0</td>\n",
       "      <td>Pennsylvania</td>\n",
       "      <td>US</td>\n",
       "      <td>United States</td>\n",
       "      <td>23</td>\n",
       "      <td>6</td>\n",
       "      <td>614</td>\n",
       "      <td>1</td>\n",
       "      <td>2014</td>\n",
       "      <td>3</td>\n",
       "      <td>7</td>\n",
       "      <td>4</td>\n",
       "      <td>F</td>\n",
       "      <td>DU</td>\n",
       "      <td>NaN</td>\n",
       "    </tr>\n",
       "    <tr>\n",
       "      <th>1</th>\n",
       "      <td>0.0</td>\n",
       "      <td>2.0</td>\n",
       "      <td>69200.0</td>\n",
       "      <td>286.0</td>\n",
       "      <td>167.0</td>\n",
       "      <td>0.0</td>\n",
       "      <td>0.0</td>\n",
       "      <td>532.0</td>\n",
       "      <td>401.0</td>\n",
       "      <td>378.0</td>\n",
       "      <td>WN</td>\n",
       "      <td>19393</td>\n",
       "      <td>Southwest Airlines Co.</td>\n",
       "      <td>06725</td>\n",
       "      <td>D</td>\n",
       "      <td>WN</td>\n",
       "      <td>Southwest Airlines Co.</td>\n",
       "      <td>3</td>\n",
       "      <td>3</td>\n",
       "      <td>14893</td>\n",
       "      <td>1489302</td>\n",
       "      <td>33192</td>\n",
       "      <td>SMF</td>\n",
       "      <td>Sacramento, CA</td>\n",
       "      <td>CA</td>\n",
       "      <td>6.0</td>\n",
       "      <td>California</td>\n",
       "      <td>US</td>\n",
       "      <td>United States</td>\n",
       "      <td>91</td>\n",
       "      <td>14869</td>\n",
       "      <td>1486903</td>\n",
       "      <td>34614</td>\n",
       "      <td>SLC</td>\n",
       "      <td>Salt Lake City, UT</td>\n",
       "      <td>UT</td>\n",
       "      <td>49.0</td>\n",
       "      <td>Utah</td>\n",
       "      <td>US</td>\n",
       "      <td>United States</td>\n",
       "      <td>87</td>\n",
       "      <td>6</td>\n",
       "      <td>612</td>\n",
       "      <td>1</td>\n",
       "      <td>2014</td>\n",
       "      <td>3</td>\n",
       "      <td>7</td>\n",
       "      <td>2</td>\n",
       "      <td>F</td>\n",
       "      <td>DU</td>\n",
       "      <td>NaN</td>\n",
       "    </tr>\n",
       "    <tr>\n",
       "      <th>2</th>\n",
       "      <td>0.0</td>\n",
       "      <td>1.0</td>\n",
       "      <td>34600.0</td>\n",
       "      <td>143.0</td>\n",
       "      <td>142.0</td>\n",
       "      <td>135.0</td>\n",
       "      <td>0.0</td>\n",
       "      <td>752.0</td>\n",
       "      <td>193.0</td>\n",
       "      <td>157.0</td>\n",
       "      <td>WN</td>\n",
       "      <td>19393</td>\n",
       "      <td>Southwest Airlines Co.</td>\n",
       "      <td>06725</td>\n",
       "      <td>D</td>\n",
       "      <td>WN</td>\n",
       "      <td>Southwest Airlines Co.</td>\n",
       "      <td>3</td>\n",
       "      <td>3</td>\n",
       "      <td>14893</td>\n",
       "      <td>1489302</td>\n",
       "      <td>33192</td>\n",
       "      <td>SMF</td>\n",
       "      <td>Sacramento, CA</td>\n",
       "      <td>CA</td>\n",
       "      <td>6.0</td>\n",
       "      <td>California</td>\n",
       "      <td>US</td>\n",
       "      <td>United States</td>\n",
       "      <td>91</td>\n",
       "      <td>15376</td>\n",
       "      <td>1537602</td>\n",
       "      <td>30436</td>\n",
       "      <td>TUS</td>\n",
       "      <td>Tucson, AZ</td>\n",
       "      <td>AZ</td>\n",
       "      <td>4.0</td>\n",
       "      <td>Arizona</td>\n",
       "      <td>US</td>\n",
       "      <td>United States</td>\n",
       "      <td>81</td>\n",
       "      <td>6</td>\n",
       "      <td>612</td>\n",
       "      <td>1</td>\n",
       "      <td>2014</td>\n",
       "      <td>3</td>\n",
       "      <td>7</td>\n",
       "      <td>2</td>\n",
       "      <td>F</td>\n",
       "      <td>DU</td>\n",
       "      <td>NaN</td>\n",
       "    </tr>\n",
       "    <tr>\n",
       "      <th>3</th>\n",
       "      <td>0.0</td>\n",
       "      <td>1.0</td>\n",
       "      <td>32200.0</td>\n",
       "      <td>143.0</td>\n",
       "      <td>143.0</td>\n",
       "      <td>0.0</td>\n",
       "      <td>0.0</td>\n",
       "      <td>30.0</td>\n",
       "      <td>32.0</td>\n",
       "      <td>17.0</td>\n",
       "      <td>WN</td>\n",
       "      <td>19393</td>\n",
       "      <td>Southwest Airlines Co.</td>\n",
       "      <td>06725</td>\n",
       "      <td>D</td>\n",
       "      <td>WN</td>\n",
       "      <td>Southwest Airlines Co.</td>\n",
       "      <td>3</td>\n",
       "      <td>3</td>\n",
       "      <td>14908</td>\n",
       "      <td>1490803</td>\n",
       "      <td>32575</td>\n",
       "      <td>SNA</td>\n",
       "      <td>Santa Ana, CA</td>\n",
       "      <td>CA</td>\n",
       "      <td>6.0</td>\n",
       "      <td>California</td>\n",
       "      <td>US</td>\n",
       "      <td>United States</td>\n",
       "      <td>91</td>\n",
       "      <td>13891</td>\n",
       "      <td>1389101</td>\n",
       "      <td>32575</td>\n",
       "      <td>ONT</td>\n",
       "      <td>Ontario, CA</td>\n",
       "      <td>CA</td>\n",
       "      <td>6.0</td>\n",
       "      <td>California</td>\n",
       "      <td>US</td>\n",
       "      <td>United States</td>\n",
       "      <td>91</td>\n",
       "      <td>6</td>\n",
       "      <td>619</td>\n",
       "      <td>1</td>\n",
       "      <td>2014</td>\n",
       "      <td>3</td>\n",
       "      <td>7</td>\n",
       "      <td>1</td>\n",
       "      <td>F</td>\n",
       "      <td>DU</td>\n",
       "      <td>NaN</td>\n",
       "    </tr>\n",
       "    <tr>\n",
       "      <th>4</th>\n",
       "      <td>0.0</td>\n",
       "      <td>2.0</td>\n",
       "      <td>69200.0</td>\n",
       "      <td>286.0</td>\n",
       "      <td>276.0</td>\n",
       "      <td>0.0</td>\n",
       "      <td>0.0</td>\n",
       "      <td>910.0</td>\n",
       "      <td>319.0</td>\n",
       "      <td>296.0</td>\n",
       "      <td>WN</td>\n",
       "      <td>19393</td>\n",
       "      <td>Southwest Airlines Co.</td>\n",
       "      <td>06725</td>\n",
       "      <td>D</td>\n",
       "      <td>WN</td>\n",
       "      <td>Southwest Airlines Co.</td>\n",
       "      <td>3</td>\n",
       "      <td>3</td>\n",
       "      <td>15016</td>\n",
       "      <td>1501603</td>\n",
       "      <td>31123</td>\n",
       "      <td>STL</td>\n",
       "      <td>St. Louis, MO</td>\n",
       "      <td>MO</td>\n",
       "      <td>29.0</td>\n",
       "      <td>Missouri</td>\n",
       "      <td>US</td>\n",
       "      <td>United States</td>\n",
       "      <td>64</td>\n",
       "      <td>10257</td>\n",
       "      <td>1025702</td>\n",
       "      <td>30257</td>\n",
       "      <td>ALB</td>\n",
       "      <td>Albany, NY</td>\n",
       "      <td>NY</td>\n",
       "      <td>36.0</td>\n",
       "      <td>New York</td>\n",
       "      <td>US</td>\n",
       "      <td>United States</td>\n",
       "      <td>22</td>\n",
       "      <td>6</td>\n",
       "      <td>612</td>\n",
       "      <td>1</td>\n",
       "      <td>2014</td>\n",
       "      <td>3</td>\n",
       "      <td>7</td>\n",
       "      <td>2</td>\n",
       "      <td>F</td>\n",
       "      <td>DU</td>\n",
       "      <td>NaN</td>\n",
       "    </tr>\n",
       "  </tbody>\n",
       "</table>\n",
       "</div>"
      ],
      "text/plain": [
       "   DEPARTURES_SCHEDULED  DEPARTURES_PERFORMED  PAYLOAD  SEATS  PASSENGERS  \\\n",
       "0                   0.0                   1.0  43400.0  175.0       158.0   \n",
       "1                   0.0                   2.0  69200.0  286.0       167.0   \n",
       "2                   0.0                   1.0  34600.0  143.0       142.0   \n",
       "3                   0.0                   1.0  32200.0  143.0       143.0   \n",
       "4                   0.0                   2.0  69200.0  286.0       276.0   \n",
       "\n",
       "   FREIGHT  MAIL  DISTANCE  RAMP_TO_RAMP  AIR_TIME UNIQUE_CARRIER  AIRLINE_ID  \\\n",
       "0    748.0   0.0    1660.0         263.0     243.0             WN       19393   \n",
       "1      0.0   0.0     532.0         401.0     378.0             WN       19393   \n",
       "2    135.0   0.0     752.0         193.0     157.0             WN       19393   \n",
       "3      0.0   0.0      30.0          32.0      17.0             WN       19393   \n",
       "4      0.0   0.0     910.0         319.0     296.0             WN       19393   \n",
       "\n",
       "      UNIQUE_CARRIER_NAME UNIQUE_CARRIER_ENTITY REGION CARRIER  \\\n",
       "0  Southwest Airlines Co.                 06725      D      WN   \n",
       "1  Southwest Airlines Co.                 06725      D      WN   \n",
       "2  Southwest Airlines Co.                 06725      D      WN   \n",
       "3  Southwest Airlines Co.                 06725      D      WN   \n",
       "4  Southwest Airlines Co.                 06725      D      WN   \n",
       "\n",
       "             CARRIER_NAME  CARRIER_GROUP  CARRIER_GROUP_NEW  \\\n",
       "0  Southwest Airlines Co.              3                  3   \n",
       "1  Southwest Airlines Co.              3                  3   \n",
       "2  Southwest Airlines Co.              3                  3   \n",
       "3  Southwest Airlines Co.              3                  3   \n",
       "4  Southwest Airlines Co.              3                  3   \n",
       "\n",
       "   ORIGIN_AIRPORT_ID  ORIGIN_AIRPORT_SEQ_ID  ORIGIN_CITY_MARKET_ID ORIGIN  \\\n",
       "0              14869                1486903                  34614    SLC   \n",
       "1              14893                1489302                  33192    SMF   \n",
       "2              14893                1489302                  33192    SMF   \n",
       "3              14908                1490803                  32575    SNA   \n",
       "4              15016                1501603                  31123    STL   \n",
       "\n",
       "     ORIGIN_CITY_NAME ORIGIN_STATE_ABR  ORIGIN_STATE_FIPS ORIGIN_STATE_NM  \\\n",
       "0  Salt Lake City, UT               UT               49.0            Utah   \n",
       "1      Sacramento, CA               CA                6.0      California   \n",
       "2      Sacramento, CA               CA                6.0      California   \n",
       "3       Santa Ana, CA               CA                6.0      California   \n",
       "4       St. Louis, MO               MO               29.0        Missouri   \n",
       "\n",
       "  ORIGIN_COUNTRY ORIGIN_COUNTRY_NAME  ORIGIN_WAC  DEST_AIRPORT_ID  \\\n",
       "0             US       United States          87            14122   \n",
       "1             US       United States          91            14869   \n",
       "2             US       United States          91            15376   \n",
       "3             US       United States          91            13891   \n",
       "4             US       United States          64            10257   \n",
       "\n",
       "   DEST_AIRPORT_SEQ_ID  DEST_CITY_MARKET_ID DEST      DEST_CITY_NAME  \\\n",
       "0              1412202                30198  PIT      Pittsburgh, PA   \n",
       "1              1486903                34614  SLC  Salt Lake City, UT   \n",
       "2              1537602                30436  TUS          Tucson, AZ   \n",
       "3              1389101                32575  ONT         Ontario, CA   \n",
       "4              1025702                30257  ALB          Albany, NY   \n",
       "\n",
       "  DEST_STATE_ABR  DEST_STATE_FIPS DEST_STATE_NM DEST_COUNTRY  \\\n",
       "0             PA             42.0  Pennsylvania           US   \n",
       "1             UT             49.0          Utah           US   \n",
       "2             AZ              4.0       Arizona           US   \n",
       "3             CA              6.0    California           US   \n",
       "4             NY             36.0      New York           US   \n",
       "\n",
       "  DEST_COUNTRY_NAME  DEST_WAC  AIRCRAFT_GROUP  AIRCRAFT_TYPE  AIRCRAFT_CONFIG  \\\n",
       "0     United States        23               6            614                1   \n",
       "1     United States        87               6            612                1   \n",
       "2     United States        81               6            612                1   \n",
       "3     United States        91               6            619                1   \n",
       "4     United States        22               6            612                1   \n",
       "\n",
       "   YEAR  QUARTER  MONTH  DISTANCE_GROUP CLASS DATA_SOURCE  Unnamed: 50  \n",
       "0  2014        3      7               4     F          DU          NaN  \n",
       "1  2014        3      7               2     F          DU          NaN  \n",
       "2  2014        3      7               2     F          DU          NaN  \n",
       "3  2014        3      7               1     F          DU          NaN  \n",
       "4  2014        3      7               2     F          DU          NaN  "
      ]
     },
     "execution_count": 97,
     "metadata": {},
     "output_type": "execute_result"
    }
   ],
   "source": [
    "routes = pd.read_csv('914310910_T_T100_SEGMENT_ALL_CARRIER_2014_All.csv')\n",
    "pd.options.display.max_columns = None\n",
    "routes.head()"
   ]
  },
  {
   "cell_type": "markdown",
   "metadata": {},
   "source": [
    "#### Exercise \n",
    "\n",
    "Calculate the number of routes to each destination country in the data.\n",
    "\n",
    "Show all countries with more than 1000 routes."
   ]
  },
  {
   "cell_type": "code",
   "execution_count": 111,
   "metadata": {},
   "outputs": [
    {
     "name": "stdout",
     "output_type": "stream",
     "text": [
      "United States         396961\n",
      "Canada                  7974\n",
      "Mexico                  6394\n",
      "United Kingdom          1912\n",
      "Japan                   1591\n",
      "Germany                 1391\n",
      "Dominican Republic      1230\n",
      "Name: DEST_COUNTRY_NAME, dtype: int64\n"
     ]
    }
   ],
   "source": [
    "num_routes = routes['DEST_COUNTRY_NAME'].value_counts()\n",
    "print(num_routes.loc[num_routes > 1000])"
   ]
  },
  {
   "cell_type": "markdown",
   "metadata": {},
   "source": [
    "#### Exercise\n",
    "\n",
    "Extract the top 10 routes by passenger number. \n",
    "\n",
    "I only want to see origin, destination, and number of passengers."
   ]
  },
  {
   "cell_type": "code",
   "execution_count": 117,
   "metadata": {},
   "outputs": [
    {
     "data": {
      "text/html": [
       "<div>\n",
       "<style scoped>\n",
       "    .dataframe tbody tr th:only-of-type {\n",
       "        vertical-align: middle;\n",
       "    }\n",
       "\n",
       "    .dataframe tbody tr th {\n",
       "        vertical-align: top;\n",
       "    }\n",
       "\n",
       "    .dataframe thead th {\n",
       "        text-align: right;\n",
       "    }\n",
       "</style>\n",
       "<table border=\"1\" class=\"dataframe\">\n",
       "  <thead>\n",
       "    <tr style=\"text-align: right;\">\n",
       "      <th></th>\n",
       "      <th>ORIGIN_CITY_NAME</th>\n",
       "      <th>DEST_CITY_NAME</th>\n",
       "      <th>PASSENGERS</th>\n",
       "    </tr>\n",
       "  </thead>\n",
       "  <tbody>\n",
       "    <tr>\n",
       "      <th>436560</th>\n",
       "      <td>Kahului, HI</td>\n",
       "      <td>Honolulu, HI</td>\n",
       "      <td>81628.0</td>\n",
       "    </tr>\n",
       "    <tr>\n",
       "      <th>436569</th>\n",
       "      <td>Kahului, HI</td>\n",
       "      <td>Honolulu, HI</td>\n",
       "      <td>78697.0</td>\n",
       "    </tr>\n",
       "    <tr>\n",
       "      <th>436561</th>\n",
       "      <td>Kahului, HI</td>\n",
       "      <td>Honolulu, HI</td>\n",
       "      <td>77961.0</td>\n",
       "    </tr>\n",
       "    <tr>\n",
       "      <th>436562</th>\n",
       "      <td>Honolulu, HI</td>\n",
       "      <td>Kahului, HI</td>\n",
       "      <td>77875.0</td>\n",
       "    </tr>\n",
       "    <tr>\n",
       "      <th>436566</th>\n",
       "      <td>Honolulu, HI</td>\n",
       "      <td>Kahului, HI</td>\n",
       "      <td>77608.0</td>\n",
       "    </tr>\n",
       "    <tr>\n",
       "      <th>436567</th>\n",
       "      <td>Kahului, HI</td>\n",
       "      <td>Honolulu, HI</td>\n",
       "      <td>77471.0</td>\n",
       "    </tr>\n",
       "    <tr>\n",
       "      <th>436558</th>\n",
       "      <td>Honolulu, HI</td>\n",
       "      <td>Kahului, HI</td>\n",
       "      <td>77402.0</td>\n",
       "    </tr>\n",
       "    <tr>\n",
       "      <th>436564</th>\n",
       "      <td>Kahului, HI</td>\n",
       "      <td>Honolulu, HI</td>\n",
       "      <td>77396.0</td>\n",
       "    </tr>\n",
       "    <tr>\n",
       "      <th>436563</th>\n",
       "      <td>Honolulu, HI</td>\n",
       "      <td>Kahului, HI</td>\n",
       "      <td>77304.0</td>\n",
       "    </tr>\n",
       "    <tr>\n",
       "      <th>436555</th>\n",
       "      <td>Honolulu, HI</td>\n",
       "      <td>Kahului, HI</td>\n",
       "      <td>76092.0</td>\n",
       "    </tr>\n",
       "  </tbody>\n",
       "</table>\n",
       "</div>"
      ],
      "text/plain": [
       "       ORIGIN_CITY_NAME DEST_CITY_NAME  PASSENGERS\n",
       "436560      Kahului, HI   Honolulu, HI     81628.0\n",
       "436569      Kahului, HI   Honolulu, HI     78697.0\n",
       "436561      Kahului, HI   Honolulu, HI     77961.0\n",
       "436562     Honolulu, HI    Kahului, HI     77875.0\n",
       "436566     Honolulu, HI    Kahului, HI     77608.0\n",
       "436567      Kahului, HI   Honolulu, HI     77471.0\n",
       "436558     Honolulu, HI    Kahului, HI     77402.0\n",
       "436564      Kahului, HI   Honolulu, HI     77396.0\n",
       "436563     Honolulu, HI    Kahului, HI     77304.0\n",
       "436555     Honolulu, HI    Kahului, HI     76092.0"
      ]
     },
     "execution_count": 117,
     "metadata": {},
     "output_type": "execute_result"
    }
   ],
   "source": [
    "top_ten_passengers = routes.sort_values(by = 'PASSENGERS',ascending= False).head(10)\n",
    "top_ten_passengers[['ORIGIN_CITY_NAME','DEST_CITY_NAME','PASSENGERS']]"
   ]
  },
  {
   "cell_type": "markdown",
   "metadata": {
    "collapsed": true
   },
   "source": [
    "## Saving to Excel"
   ]
  },
  {
   "cell_type": "code",
   "execution_count": 119,
   "metadata": {},
   "outputs": [],
   "source": [
    "top_ten_passengers.to_excel('top_ten_passengers.xlsx')"
   ]
  },
  {
   "cell_type": "code",
   "execution_count": 120,
   "metadata": {},
   "outputs": [
    {
     "name": "stdout",
     "output_type": "stream",
     "text": [
      "03-introduction_to_pandas.empty.ipynb\r\n",
      "04-advanced_pandas.empty.ipynb\r\n",
      "914310910_T_T100_SEGMENT_ALL_CARRIER_2014_All.csv\r\n",
      "914310910_T_T100_SEGMENT_ALL_CARRIER_ReadMe.csv\r\n",
      "914310910_T_T100_SEGMENT_ALL_CARRIER_Terms.csv\r\n",
      "top_ten_passengers.xlsx\r\n"
     ]
    }
   ],
   "source": [
    "!ls"
   ]
  },
  {
   "cell_type": "markdown",
   "metadata": {
    "collapsed": true
   },
   "source": [
    "## Saving to CSV"
   ]
  },
  {
   "cell_type": "code",
   "execution_count": 121,
   "metadata": {
    "scrolled": true
   },
   "outputs": [],
   "source": [
    "top_ten_passengers.to_csv('top_ten_passengers.csv')"
   ]
  },
  {
   "cell_type": "markdown",
   "metadata": {
    "collapsed": true
   },
   "source": [
    "## To Sql Database"
   ]
  },
  {
   "cell_type": "code",
   "execution_count": 127,
   "metadata": {},
   "outputs": [
    {
     "ename": "TypeError",
     "evalue": "expected str, bytes or os.PathLike object, not DataFrame",
     "output_type": "error",
     "traceback": [
      "\u001b[0;31m---------------------------------------------------------------------------\u001b[0m",
      "\u001b[0;31mTypeError\u001b[0m                                 Traceback (most recent call last)",
      "\u001b[0;32m/tmp/ipykernel_2149/3953944648.py\u001b[0m in \u001b[0;36m<module>\u001b[0;34m\u001b[0m\n\u001b[1;32m      2\u001b[0m \u001b[0;34m\u001b[0m\u001b[0m\n\u001b[1;32m      3\u001b[0m \u001b[0;34m\u001b[0m\u001b[0m\n\u001b[0;32m----> 4\u001b[0;31m \u001b[0mconnection\u001b[0m \u001b[0;34m=\u001b[0m \u001b[0msqlite3\u001b[0m\u001b[0;34m.\u001b[0m\u001b[0mconnect\u001b[0m\u001b[0;34m(\u001b[0m\u001b[0mtop_ten_passengers\u001b[0m\u001b[0;34m)\u001b[0m\u001b[0;34m\u001b[0m\u001b[0;34m\u001b[0m\u001b[0m\n\u001b[0m",
      "\u001b[0;31mTypeError\u001b[0m: expected str, bytes or os.PathLike object, not DataFrame"
     ]
    }
   ],
   "source": [
    "import sqlite3\n",
    "\n",
    "\n",
    "connection = sqlite3.connect()"
   ]
  },
  {
   "cell_type": "markdown",
   "metadata": {
    "collapsed": true
   },
   "source": [
    "## To dictionary and to json"
   ]
  },
  {
   "cell_type": "code",
   "execution_count": 124,
   "metadata": {
    "scrolled": true
   },
   "outputs": [
    {
     "data": {
      "text/plain": [
       "'{\"DEPARTURES_SCHEDULED\":{\"436560\":820.0,\"436569\":851.0,\"436561\":820.0,\"436562\":823.0,\"436566\":851.0,\"436567\":851.0,\"436558\":820.0,\"436564\":823.0,\"436563\":823.0,\"436555\":818.0},\"DEPARTURES_PERFORMED\":{\"436560\":822.0,\"436569\":848.0,\"436561\":820.0,\"436562\":822.0,\"436566\":850.0,\"436567\":846.0,\"436558\":821.0,\"436564\":808.0,\"436563\":811.0,\"436555\":816.0},\"PAYLOAD\":{\"436560\":22598800.0,\"436569\":23414300.0,\"436561\":22575200.0,\"436562\":22773800.0,\"436566\":23453400.0,\"436567\":23362600.0,\"436558\":22654100.0,\"436564\":22260100.0,\"436563\":22407200.0,\"436555\":25573300.0},\"SEATS\":{\"436560\":99471.0,\"436569\":102389.0,\"436561\":99630.0,\"436562\":99166.0,\"436566\":102600.0,\"436567\":102083.0,\"436558\":99618.0,\"436564\":97799.0,\"436563\":98033.0,\"436555\":98998.0},\"PASSENGERS\":{\"436560\":81628.0,\"436569\":78697.0,\"436561\":77961.0,\"436562\":77875.0,\"436566\":77608.0,\"436567\":77471.0,\"436558\":77402.0,\"436564\":77396.0,\"436563\":77304.0,\"436555\":76092.0},\"FREIGHT\":{\"436560\":86116.0,\"436569\":91862.0,\"436561\":86839.0,\"436562\":127414.0,\"436566\":139728.0,\"436567\":88542.0,\"436558\":142806.0,\"436564\":75229.0,\"436563\":138857.0,\"436555\":150860.0},\"MAIL\":{\"436560\":0.0,\"436569\":0.0,\"436561\":0.0,\"436562\":0.0,\"436566\":0.0,\"436567\":0.0,\"436558\":0.0,\"436564\":0.0,\"436563\":0.0,\"436555\":0.0},\"DISTANCE\":{\"436560\":101.0,\"436569\":100.0,\"436561\":101.0,\"436562\":100.0,\"436566\":100.0,\"436567\":100.0,\"436558\":101.0,\"436564\":100.0,\"436563\":100.0,\"436555\":100.0},\"RAMP_TO_RAMP\":{\"436560\":31431.0,\"436569\":31451.0,\"436561\":31316.0,\"436562\":31618.0,\"436566\":33611.0,\"436567\":30826.0,\"436558\":31614.0,\"436564\":29640.0,\"436563\":31129.0,\"436555\":33340.0},\"AIR_TIME\":{\"436560\":19589.0,\"436569\":19133.0,\"436561\":19789.0,\"436562\":17626.0,\"436566\":18462.0,\"436567\":19043.0,\"436558\":17776.0,\"436564\":18627.0,\"436563\":17404.0,\"436555\":17618.0},\"UNIQUE_CARRIER\":{\"436560\":\"HA\",\"436569\":\"HA\",\"436561\":\"HA\",\"436562\":\"HA\",\"436566\":\"HA\",\"436567\":\"HA\",\"436558\":\"HA\",\"436564\":\"HA\",\"436563\":\"HA\",\"436555\":\"HA\"},\"AIRLINE_ID\":{\"436560\":19690,\"436569\":19690,\"436561\":19690,\"436562\":19690,\"436566\":19690,\"436567\":19690,\"436558\":19690,\"436564\":19690,\"436563\":19690,\"436555\":19690},\"UNIQUE_CARRIER_NAME\":{\"436560\":\"Hawaiian Airlines Inc.\",\"436569\":\"Hawaiian Airlines Inc.\",\"436561\":\"Hawaiian Airlines Inc.\",\"436562\":\"Hawaiian Airlines Inc.\",\"436566\":\"Hawaiian Airlines Inc.\",\"436567\":\"Hawaiian Airlines Inc.\",\"436558\":\"Hawaiian Airlines Inc.\",\"436564\":\"Hawaiian Airlines Inc.\",\"436563\":\"Hawaiian Airlines Inc.\",\"436555\":\"Hawaiian Airlines Inc.\"},\"UNIQUE_CARRIER_ENTITY\":{\"436560\":\"05375\",\"436569\":\"05375\",\"436561\":\"05375\",\"436562\":\"05375\",\"436566\":\"05375\",\"436567\":\"05375\",\"436558\":\"05375\",\"436564\":\"05375\",\"436563\":\"05375\",\"436555\":\"05375\"},\"REGION\":{\"436560\":\"D\",\"436569\":\"D\",\"436561\":\"D\",\"436562\":\"D\",\"436566\":\"D\",\"436567\":\"D\",\"436558\":\"D\",\"436564\":\"D\",\"436563\":\"D\",\"436555\":\"D\"},\"CARRIER\":{\"436560\":\"HA\",\"436569\":\"HA\",\"436561\":\"HA\",\"436562\":\"HA\",\"436566\":\"HA\",\"436567\":\"HA\",\"436558\":\"HA\",\"436564\":\"HA\",\"436563\":\"HA\",\"436555\":\"HA\"},\"CARRIER_NAME\":{\"436560\":\"Hawaiian Airlines Inc.\",\"436569\":\"Hawaiian Airlines Inc.\",\"436561\":\"Hawaiian Airlines Inc.\",\"436562\":\"Hawaiian Airlines Inc.\",\"436566\":\"Hawaiian Airlines Inc.\",\"436567\":\"Hawaiian Airlines Inc.\",\"436558\":\"Hawaiian Airlines Inc.\",\"436564\":\"Hawaiian Airlines Inc.\",\"436563\":\"Hawaiian Airlines Inc.\",\"436555\":\"Hawaiian Airlines Inc.\"},\"CARRIER_GROUP\":{\"436560\":3,\"436569\":3,\"436561\":3,\"436562\":3,\"436566\":3,\"436567\":3,\"436558\":3,\"436564\":3,\"436563\":3,\"436555\":3},\"CARRIER_GROUP_NEW\":{\"436560\":3,\"436569\":3,\"436561\":3,\"436562\":3,\"436566\":3,\"436567\":3,\"436558\":3,\"436564\":3,\"436563\":3,\"436555\":3},\"ORIGIN_AIRPORT_ID\":{\"436560\":13830,\"436569\":13830,\"436561\":13830,\"436562\":12173,\"436566\":12173,\"436567\":13830,\"436558\":12173,\"436564\":13830,\"436563\":12173,\"436555\":12173},\"ORIGIN_AIRPORT_SEQ_ID\":{\"436560\":1383002,\"436569\":1383002,\"436561\":1383002,\"436562\":1217302,\"436566\":1217302,\"436567\":1383002,\"436558\":1217301,\"436564\":1383002,\"436563\":1217302,\"436555\":1217302},\"ORIGIN_CITY_MARKET_ID\":{\"436560\":33830,\"436569\":33830,\"436561\":33830,\"436562\":32134,\"436566\":32134,\"436567\":33830,\"436558\":32134,\"436564\":33830,\"436563\":32134,\"436555\":32134},\"ORIGIN\":{\"436560\":\"OGG\",\"436569\":\"OGG\",\"436561\":\"OGG\",\"436562\":\"HNL\",\"436566\":\"HNL\",\"436567\":\"OGG\",\"436558\":\"HNL\",\"436564\":\"OGG\",\"436563\":\"HNL\",\"436555\":\"HNL\"},\"ORIGIN_CITY_NAME\":{\"436560\":\"Kahului, HI\",\"436569\":\"Kahului, HI\",\"436561\":\"Kahului, HI\",\"436562\":\"Honolulu, HI\",\"436566\":\"Honolulu, HI\",\"436567\":\"Kahului, HI\",\"436558\":\"Honolulu, HI\",\"436564\":\"Kahului, HI\",\"436563\":\"Honolulu, HI\",\"436555\":\"Honolulu, HI\"},\"ORIGIN_STATE_ABR\":{\"436560\":\"HI\",\"436569\":\"HI\",\"436561\":\"HI\",\"436562\":\"HI\",\"436566\":\"HI\",\"436567\":\"HI\",\"436558\":\"HI\",\"436564\":\"HI\",\"436563\":\"HI\",\"436555\":\"HI\"},\"ORIGIN_STATE_FIPS\":{\"436560\":15.0,\"436569\":15.0,\"436561\":15.0,\"436562\":15.0,\"436566\":15.0,\"436567\":15.0,\"436558\":15.0,\"436564\":15.0,\"436563\":15.0,\"436555\":15.0},\"ORIGIN_STATE_NM\":{\"436560\":\"Hawaii\",\"436569\":\"Hawaii\",\"436561\":\"Hawaii\",\"436562\":\"Hawaii\",\"436566\":\"Hawaii\",\"436567\":\"Hawaii\",\"436558\":\"Hawaii\",\"436564\":\"Hawaii\",\"436563\":\"Hawaii\",\"436555\":\"Hawaii\"},\"ORIGIN_COUNTRY\":{\"436560\":\"US\",\"436569\":\"US\",\"436561\":\"US\",\"436562\":\"US\",\"436566\":\"US\",\"436567\":\"US\",\"436558\":\"US\",\"436564\":\"US\",\"436563\":\"US\",\"436555\":\"US\"},\"ORIGIN_COUNTRY_NAME\":{\"436560\":\"United States\",\"436569\":\"United States\",\"436561\":\"United States\",\"436562\":\"United States\",\"436566\":\"United States\",\"436567\":\"United States\",\"436558\":\"United States\",\"436564\":\"United States\",\"436563\":\"United States\",\"436555\":\"United States\"},\"ORIGIN_WAC\":{\"436560\":2,\"436569\":2,\"436561\":2,\"436562\":2,\"436566\":2,\"436567\":2,\"436558\":2,\"436564\":2,\"436563\":2,\"436555\":2},\"DEST_AIRPORT_ID\":{\"436560\":12173,\"436569\":12173,\"436561\":12173,\"436562\":13830,\"436566\":13830,\"436567\":12173,\"436558\":13830,\"436564\":12173,\"436563\":13830,\"436555\":13830},\"DEST_AIRPORT_SEQ_ID\":{\"436560\":1217301,\"436569\":1217302,\"436561\":1217301,\"436562\":1383002,\"436566\":1383002,\"436567\":1217302,\"436558\":1383002,\"436564\":1217302,\"436563\":1383002,\"436555\":1383002},\"DEST_CITY_MARKET_ID\":{\"436560\":32134,\"436569\":32134,\"436561\":32134,\"436562\":33830,\"436566\":33830,\"436567\":32134,\"436558\":33830,\"436564\":32134,\"436563\":33830,\"436555\":33830},\"DEST\":{\"436560\":\"HNL\",\"436569\":\"HNL\",\"436561\":\"HNL\",\"436562\":\"OGG\",\"436566\":\"OGG\",\"436567\":\"HNL\",\"436558\":\"OGG\",\"436564\":\"HNL\",\"436563\":\"OGG\",\"436555\":\"OGG\"},\"DEST_CITY_NAME\":{\"436560\":\"Honolulu, HI\",\"436569\":\"Honolulu, HI\",\"436561\":\"Honolulu, HI\",\"436562\":\"Kahului, HI\",\"436566\":\"Kahului, HI\",\"436567\":\"Honolulu, HI\",\"436558\":\"Kahului, HI\",\"436564\":\"Honolulu, HI\",\"436563\":\"Kahului, HI\",\"436555\":\"Kahului, HI\"},\"DEST_STATE_ABR\":{\"436560\":\"HI\",\"436569\":\"HI\",\"436561\":\"HI\",\"436562\":\"HI\",\"436566\":\"HI\",\"436567\":\"HI\",\"436558\":\"HI\",\"436564\":\"HI\",\"436563\":\"HI\",\"436555\":\"HI\"},\"DEST_STATE_FIPS\":{\"436560\":15.0,\"436569\":15.0,\"436561\":15.0,\"436562\":15.0,\"436566\":15.0,\"436567\":15.0,\"436558\":15.0,\"436564\":15.0,\"436563\":15.0,\"436555\":15.0},\"DEST_STATE_NM\":{\"436560\":\"Hawaii\",\"436569\":\"Hawaii\",\"436561\":\"Hawaii\",\"436562\":\"Hawaii\",\"436566\":\"Hawaii\",\"436567\":\"Hawaii\",\"436558\":\"Hawaii\",\"436564\":\"Hawaii\",\"436563\":\"Hawaii\",\"436555\":\"Hawaii\"},\"DEST_COUNTRY\":{\"436560\":\"US\",\"436569\":\"US\",\"436561\":\"US\",\"436562\":\"US\",\"436566\":\"US\",\"436567\":\"US\",\"436558\":\"US\",\"436564\":\"US\",\"436563\":\"US\",\"436555\":\"US\"},\"DEST_COUNTRY_NAME\":{\"436560\":\"United States\",\"436569\":\"United States\",\"436561\":\"United States\",\"436562\":\"United States\",\"436566\":\"United States\",\"436567\":\"United States\",\"436558\":\"United States\",\"436564\":\"United States\",\"436563\":\"United States\",\"436555\":\"United States\"},\"DEST_WAC\":{\"436560\":2,\"436569\":2,\"436561\":2,\"436562\":2,\"436566\":2,\"436567\":2,\"436558\":2,\"436564\":2,\"436563\":2,\"436555\":2},\"AIRCRAFT_GROUP\":{\"436560\":6,\"436569\":6,\"436561\":6,\"436562\":6,\"436566\":6,\"436567\":6,\"436558\":6,\"436564\":6,\"436563\":6,\"436555\":6},\"AIRCRAFT_TYPE\":{\"436560\":608,\"436569\":608,\"436561\":608,\"436562\":608,\"436566\":608,\"436567\":608,\"436558\":608,\"436564\":608,\"436563\":608,\"436555\":608},\"AIRCRAFT_CONFIG\":{\"436560\":1,\"436569\":1,\"436561\":1,\"436562\":1,\"436566\":1,\"436567\":1,\"436558\":1,\"436564\":1,\"436563\":1,\"436555\":1},\"YEAR\":{\"436560\":2014,\"436569\":2014,\"436561\":2014,\"436562\":2014,\"436566\":2014,\"436567\":2014,\"436558\":2014,\"436564\":2014,\"436563\":2014,\"436555\":2014},\"QUARTER\":{\"436560\":1,\"436569\":3,\"436561\":1,\"436562\":2,\"436566\":3,\"436567\":3,\"436558\":1,\"436564\":2,\"436563\":2,\"436555\":4},\"MONTH\":{\"436560\":1,\"436569\":7,\"436561\":3,\"436562\":6,\"436566\":7,\"436567\":8,\"436558\":3,\"436564\":5,\"436563\":5,\"436555\":12},\"DISTANCE_GROUP\":{\"436560\":1,\"436569\":1,\"436561\":1,\"436562\":1,\"436566\":1,\"436567\":1,\"436558\":1,\"436564\":1,\"436563\":1,\"436555\":1},\"CLASS\":{\"436560\":\"F\",\"436569\":\"F\",\"436561\":\"F\",\"436562\":\"F\",\"436566\":\"F\",\"436567\":\"F\",\"436558\":\"F\",\"436564\":\"F\",\"436563\":\"F\",\"436555\":\"F\"},\"DATA_SOURCE\":{\"436560\":\"DU\",\"436569\":\"DU\",\"436561\":\"DU\",\"436562\":\"DU\",\"436566\":\"DU\",\"436567\":\"DU\",\"436558\":\"DU\",\"436564\":\"DU\",\"436563\":\"DU\",\"436555\":\"DU\"},\"Unnamed: 50\":{\"436560\":null,\"436569\":null,\"436561\":null,\"436562\":null,\"436566\":null,\"436567\":null,\"436558\":null,\"436564\":null,\"436563\":null,\"436555\":null}}'"
      ]
     },
     "execution_count": 124,
     "metadata": {},
     "output_type": "execute_result"
    }
   ],
   "source": [
    "top_ten_passengers.to_dict()\n",
    "\n",
    "top_ten_passengers.to_json()"
   ]
  },
  {
   "cell_type": "markdown",
   "metadata": {},
   "source": [
    "## Reading Excel"
   ]
  },
  {
   "cell_type": "code",
   "execution_count": 125,
   "metadata": {},
   "outputs": [],
   "source": [
    "reread = pd.read_excel('top_ten_passengers.xlsx')"
   ]
  },
  {
   "cell_type": "markdown",
   "metadata": {
    "collapsed": true
   },
   "source": [
    "## Reading mysql database"
   ]
  },
  {
   "cell_type": "code",
   "execution_count": 126,
   "metadata": {},
   "outputs": [
    {
     "ename": "NameError",
     "evalue": "name 'connection' is not defined",
     "output_type": "error",
     "traceback": [
      "\u001b[0;31m---------------------------------------------------------------------------\u001b[0m",
      "\u001b[0;31mNameError\u001b[0m                                 Traceback (most recent call last)",
      "\u001b[0;32m/tmp/ipykernel_2149/687292954.py\u001b[0m in \u001b[0;36m<module>\u001b[0;34m\u001b[0m\n\u001b[0;32m----> 1\u001b[0;31m \u001b[0mdf3\u001b[0m \u001b[0;34m=\u001b[0m \u001b[0mpd\u001b[0m\u001b[0;34m.\u001b[0m\u001b[0mread_sql_query\u001b[0m\u001b[0;34m(\u001b[0m\u001b[0;34m'SELECT * FORM routes'\u001b[0m\u001b[0;34m,\u001b[0m \u001b[0mconnection\u001b[0m\u001b[0;34m)\u001b[0m\u001b[0;34m\u001b[0m\u001b[0;34m\u001b[0m\u001b[0m\n\u001b[0m",
      "\u001b[0;31mNameError\u001b[0m: name 'connection' is not defined"
     ]
    }
   ],
   "source": [
    "df3 = pd.read_sql_query('SELECT * FORM routes', connection)"
   ]
  },
  {
   "cell_type": "markdown",
   "metadata": {
    "slideshow": {
     "slide_type": "slide"
    }
   },
   "source": [
    "# Additional References\n",
    "\n",
    "[Python for Data Analysis](http://shop.oreilly.com/product/0636920023784.do)\n",
    "\n",
    "[What is SciPy?](https://www.scipy.org/)\n",
    "\n",
    "[How can SciPy be fast if it is written in an interpreted language like Python?](https://www.scipy.org/scipylib/faq.html#how-can-scipy-be-fast-if-it-is-written-in-an-interpreted-language-like-python)\n",
    "\n",
    "[What is the difference between NumPy and SciPy?](https://www.scipy.org/scipylib/faq.html#what-is-the-difference-between-numpy-and-scipy)\n",
    "\n",
    "[Linear Algebra for AI](https://github.com/fastai/fastai/blob/master/tutorials/linalg_pytorch.ipynb)"
   ]
  }
 ],
 "metadata": {
  "kernelspec": {
   "display_name": "Python 3 (ipykernel)",
   "language": "python",
   "name": "python3"
  },
  "language_info": {
   "codemirror_mode": {
    "name": "ipython",
    "version": 3
   },
   "file_extension": ".py",
   "mimetype": "text/x-python",
   "name": "python",
   "nbconvert_exporter": "python",
   "pygments_lexer": "ipython3",
   "version": "3.8.11"
  },
  "livereveal": {
   "scroll": true,
   "start_slideshow_at": "selected"
  },
  "toc": {
   "base_numbering": 1,
   "nav_menu": {},
   "number_sections": true,
   "sideBar": true,
   "skip_h1_title": false,
   "title_cell": "Table of Contents",
   "title_sidebar": "Contents",
   "toc_cell": false,
   "toc_position": {},
   "toc_section_display": true,
   "toc_window_display": false
  }
 },
 "nbformat": 4,
 "nbformat_minor": 2
}
